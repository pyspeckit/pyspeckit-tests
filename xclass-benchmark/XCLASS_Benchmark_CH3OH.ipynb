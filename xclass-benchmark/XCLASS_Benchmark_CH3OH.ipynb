{
 "cells": [
  {
   "cell_type": "code",
   "execution_count": 4,
   "id": "egyptian-metabolism",
   "metadata": {},
   "outputs": [],
   "source": [
    "%matplotlib inline\n",
    "import pylab as pl\n",
    "import numpy as np"
   ]
  },
  {
   "cell_type": "code",
   "execution_count": 5,
   "id": "later-missouri",
   "metadata": {},
   "outputs": [],
   "source": [
    "import pyspeckit"
   ]
  },
  {
   "cell_type": "code",
   "execution_count": 6,
   "id": "convinced-width",
   "metadata": {},
   "outputs": [],
   "source": [
    "source_size =  4.3350376922e+00\n",
    "tkin = 7.9842254347e+01\n",
    "Ntot = 3.7061155735e+17\n",
    "vwidth_fwhm = 4.2101396644e+00\n",
    "vwidth = vwidth_fwhm / np.sqrt(8*np.log(2))\n",
    "vcen = -7.9000000000e+00\n",
    "\n",
    "# define min. freq. (in MHz)\n",
    "FreqMin = 215764.24\n",
    "# define max. freq. (in MHz)\n",
    "FreqMax = 235471.74"
   ]
  },
  {
   "cell_type": "code",
   "execution_count": 7,
   "id": "tribal-hampton",
   "metadata": {},
   "outputs": [],
   "source": [
    "import sys\n",
    "import os\n",
    "\n",
    "LocalPath = os.getcwd() + \"/\"\n",
    "\n",
    "# get path of XCLASS directory\n",
    "XCLASSRootDir = str(os.environ.get('XCLASSRootDir', '')).strip()\n",
    "XCLASSRootDir = os.path.normpath(XCLASSRootDir) + \"/\"\n",
    "\n",
    "# extend sys.path variable\n",
    "NewPath = XCLASSRootDir + \"build_tasks/\"\n",
    "if (not NewPath in sys.path):\n",
    "    sys.path.append(NewPath)\n",
    "\n",
    "import task_myXCLASS\n",
    "\n",
    "###########################################################################\n",
    "# TO MODIFY BY THE USER\n",
    "\n",
    "# define path and name of molfit file\n",
    "#DEFAULT MolfitsFileName = LocalPath + \"files/my_molecules.molfit\"\n",
    "MolfitsFileName = LocalPath + 'CH3OH_pure.molfit'\n",
    "\n",
    "with open(MolfitsFileName, 'w') as fh:\n",
    "    fh.write(f\"\"\"%============================================================================================================================\n",
    "%\n",
    "% define molecules and their components:\n",
    "%\n",
    "%============================================================================================================================\n",
    "%    source size:                 T_kin:               N_tot:            V_width:                V_off:   CFFlag:    keyword:\n",
    "%       [arcsec]:                   [K]:              [cm-2]:            [km /s]:              [km /s]:       []:         []:\n",
    "CH3OH;v=0;           1\n",
    " {source_size}       {tkin}     {Ntot}     {vwidth_fwhm}    {vcen}         c\n",
    "\"\"\")\n",
    "\n",
    "\n",
    "\n",
    "# define freq. step (in MHz)\n",
    "FreqStep = 0.1\n",
    "\n",
    "# depending on parameter \"Inter_Flag\" define beam size (in arcsec)\n",
    "# (Inter_Flag = True) or size of telescope (in m) (Inter_Flag = False)\n",
    "TelescopeSize = 1000.0 # meters\n",
    "\n",
    "# define beam minor axis length (in arsec)\n",
    "BMIN = None\n",
    "\n",
    "# define beam major axis length (in arsec)\n",
    "BMAJ = None\n",
    "\n",
    "# define beam position angle (in degree)\n",
    "BPA = None\n",
    "\n",
    "# interferrometric data?\n",
    "Inter_Flag = False\n",
    "\n",
    "# define red shift\n",
    "Redshift = None\n",
    "\n",
    "# BACKGROUND: describe continuum with tBack and tslope only\n",
    "t_back_flag = True\n",
    "\n",
    "# BACKGROUND: define background temperature (in K)\n",
    "tBack = 0.0\n",
    "\n",
    "# BACKGROUND: define temperature slope (dimensionless)\n",
    "tslope = 0.0\n",
    "\n",
    "# BACKGROUND: define path and name of ASCII file describing continuum as function\n",
    "#             of frequency\n",
    "BackgroundFileName = \"\"\n",
    "\n",
    "# DUST: define hydrogen column density (in cm^(-2))\n",
    "N_H = 1.e22\n",
    "\n",
    "# DUST: define spectral index for dust (dimensionless)\n",
    "beta_dust = 0.0\n",
    "\n",
    "# DUST: define kappa at 1.3 mm (cm^(2) g^(-1))\n",
    "kappa_1300 = 0.0\n",
    "\n",
    "# DUST: define path and name of ASCII file describing dust opacity as\n",
    "#       function of frequency\n",
    "DustFileName = \"\"\n",
    "\n",
    "# FREE-FREE: define electronic temperature (in K)\n",
    "Te_ff = None\n",
    "\n",
    "# FREE-FREE: define emission measure (in pc cm^(-6))\n",
    "EM_ff = None\n",
    "\n",
    "# SYNCHROTRON: define kappa of energy spectrum of electrons (electrons m^(−3) GeV^(-1))\n",
    "kappa_sync = None\n",
    "\n",
    "# SYNCHROTRON: define magnetic field (in Gauss)\n",
    "B_sync = None\n",
    "\n",
    "# SYNCHROTRON: energy spectral index (dimensionless)\n",
    "p_sync = None\n",
    "\n",
    "# SYNCHROTRON: thickness of slab (in AU)\n",
    "l_sync = None\n",
    "\n",
    "# PHEN-CONT: define phenomenological function which is used to describe\n",
    "#            the continuum\n",
    "ContPhenFuncID = None\n",
    "\n",
    "# PHEN-CONT: define first parameter for phenomenological function\n",
    "ContPhenFuncParam1 = None\n",
    "\n",
    "# PHEN-CONT: define second parameter for phenomenological function\n",
    "ContPhenFuncParam2 = None\n",
    "\n",
    "# PHEN-CONT: define third parameter for phenomenological function\n",
    "ContPhenFuncParam3 = None\n",
    "\n",
    "# PHEN-CONT: define fourth parameter for phenomenological function\n",
    "ContPhenFuncParam4 = None\n",
    "\n",
    "# PHEN-CONT: define fifth parameter for phenomenological function\n",
    "ContPhenFuncParam5 = None\n",
    "\n",
    "# use iso ratio file?\n",
    "iso_flag = False\n",
    "\n",
    "# define path and name of iso ratio file\n",
    "#DEFAULT IsoTableFileName = LocalPath + \"files/my_isonames.txt\"\n",
    "IsoTableFileName = LocalPath + \"my_isonames.txt\"\n",
    "\n",
    "# define path and name of file describing Non-LTE parameters\n",
    "CollisionFileName = \"\"\n",
    "\n",
    "# define number of pixels in x-direction (used for sub-beam description)\n",
    "NumModelPixelXX = 100\n",
    "\n",
    "# define number of pixels in y-direction (used for sub-beam description)\n",
    "NumModelPixelYY = 100\n",
    "\n",
    "# take local-overlap into account or not\n",
    "LocalOverlapFlag = False\n",
    "\n",
    "# disable sub-beam description\n",
    "NoSubBeamFlag = True\n",
    "\n",
    "# define path and name of database file\n",
    "dbFilename = \"\"\n",
    "\n",
    "# define rest freq. (in MHz)\n",
    "RestFreq = 0.0\n",
    "\n",
    "# define v_lsr (in km/s)\n",
    "vLSR = 0.0"
   ]
  },
  {
   "cell_type": "code",
   "execution_count": 12,
   "id": "1c6dc2f7-6b66-4959-b025-e8c43970a24d",
   "metadata": {},
   "outputs": [
    {
     "data": {
      "text/plain": [
       "'/blue/adamginsburg/adamginsburg/repos/pyspeckit-tests/xclass-benchmark/'"
      ]
     },
     "execution_count": 12,
     "metadata": {},
     "output_type": "execute_result"
    }
   ],
   "source": [
    "LocalPath"
   ]
  },
  {
   "cell_type": "code",
   "execution_count": 13,
   "id": "fcfe4e6c-eefc-4817-b96d-70b0273c2d3e",
   "metadata": {},
   "outputs": [
    {
     "data": {
      "text/plain": [
       "'/orange/adamginsburg/software/XCLASS-Interface/'"
      ]
     },
     "execution_count": 13,
     "metadata": {},
     "output_type": "execute_result"
    }
   ],
   "source": [
    "XCLASSRootDir"
   ]
  },
  {
   "cell_type": "code",
   "execution_count": 8,
   "id": "changing-engine",
   "metadata": {},
   "outputs": [
    {
     "name": "stdout",
     "output_type": "stream",
     "text": [
      "\n",
      "Start function myXCLASS:\n",
      "\n",
      "\n",
      "Creating job directory for function myXCLASS: /orange/adamginsburg/software/XCLASS-Interface/run/myXCLASS/job__20-07-2022__11-22-45__559333337/ .. done!\n",
      "\n",
      "All files of the current myXCLASS run are stored here!\n",
      "\n",
      "\n",
      "Set environment variable MAGIXTempDirectory =  /orange/adamginsburg/software/XCLASS-Interface/programs/MAGIX/temp/\n",
      "Analyze molfit file .. done!\n",
      "\n",
      "\n",
      "Check, if names of molecules in molfit file are included in XCLASS database .. done!\n",
      "\n",
      "\n",
      "\n",
      " \n",
      "Reading command line parameters .. done!\n",
      " \n",
      "Command line arguments:\n",
      "  First frequency:                  2.1576424000E+05\n",
      "  Last frequency:                   2.3547174000E+05\n",
      "  Stepsize (resolution):            1.0000000000E-01\n",
      "  Size of telescope:                1.0000000000E+03\n",
      "  Interferrometer flag:             F\n",
      "  v_LSR:                            0.0000000000E+00\n",
      "  Background temperature flag:      T\n",
      "  Background Temperature:           0.0000000000E+00\n",
      "  Temperature Slope:                0.0000000000E+00\n",
      "  N_H:                              1.0000000000E+22\n",
      "  beta dust:                        0.0000000000E+00\n",
      "  kappa:                            0.0000000000E+00\n",
      "  NumModelPixelXX:                  100\n",
      "  NumModelPixelYY:                  100\n",
      "  Local-overlap flag:               F\n",
      "  No sub-beam flag:                 T\n",
      "  Path and name of instance file:   \"parameter.xml\"\n",
      "  Iso flag:                         F\n",
      "  Path and name of database file:   \"/orange/adamginsburg/software/XCLASS-Interface/Database/cdms_sqlite.db\"\n",
      " \n",
      " \n",
      "Reading parameters from file .. done!\n",
      " \n",
      " \n",
      "Sub-beam description is NOT used!\n",
      " \n",
      " \n",
      "Do NOT take local-overlap into account!\n",
      " \n",
      " \n",
      "              Reading partition functions for all molecules from sqlite3 database .. done!\n",
      " \n",
      "                Number of entries =          1\n",
      "                Molecule in database: CH3OH;v=0;\n",
      " \n",
      " \n",
      "              Reading parameters for radiative transitions for all molecules from sqlite database .. done!\n",
      " \n",
      " \n",
      "                Number of transitions for each frequency range and molecule:\n",
      " \n",
      "                Frequency range: 2.157642400000000E+05 MHz - 2.354717400000000E+05 MHz:\n",
      "                  Number of transitions for molecule \"CH3OH;v=0;\":                                294\n",
      " \n",
      " \n",
      "Compute intensity .. done!\n",
      " \n",
      "myXCLASS finished!\n",
      "\n",
      "Import calculated myXCLASS spectrum .. done!\n",
      "\n",
      "Read in intensities for each molecule and for each component .. done!\n",
      "\n",
      "Read in optical depths for each molecule and for each component .. done!\n",
      "\n",
      "All files of the current myXCLASS run are stored in the job directory /orange/adamginsburg/software/XCLASS-Interface/run/myXCLASS/job__20-07-2022__11-22-45__559333337/!\n",
      "\n",
      "\n"
     ]
    }
   ],
   "source": [
    "modeldata, log, TransEnergies, IntOpt, JobDir = task_myXCLASS.myXCLASS(\n",
    "                                            FreqMin, FreqMax, FreqStep,\n",
    "                                            TelescopeSize, BMIN, BMAJ,\n",
    "                                            BPA, Inter_Flag, Redshift,\n",
    "                                            t_back_flag, tBack, tslope,\n",
    "                                            BackgroundFileName,\n",
    "                                            N_H, beta_dust, kappa_1300,\n",
    "                                            DustFileName, Te_ff, EM_ff,\n",
    "                                            kappa_sync, B_sync, p_sync,\n",
    "                                            l_sync, ContPhenFuncID,\n",
    "                                            ContPhenFuncParam1,\n",
    "                                            ContPhenFuncParam2,\n",
    "                                            ContPhenFuncParam3,\n",
    "                                            ContPhenFuncParam4,\n",
    "                                            ContPhenFuncParam5,\n",
    "                                            MolfitsFileName, iso_flag,\n",
    "                                            IsoTableFileName,\n",
    "                                            CollisionFileName,\n",
    "                                            NumModelPixelXX,\n",
    "                                            NumModelPixelYY,\n",
    "                                            LocalOverlapFlag,\n",
    "                                            NoSubBeamFlag,\n",
    "                                            dbFilename,\n",
    "                                            RestFreq, vLSR)"
   ]
  },
  {
   "cell_type": "code",
   "execution_count": 9,
   "id": "inappropriate-trader",
   "metadata": {},
   "outputs": [
    {
     "data": {
      "text/plain": [
       "[<matplotlib.lines.Line2D at 0x2b015dc53c70>]"
      ]
     },
     "execution_count": 9,
     "metadata": {},
     "output_type": "execute_result"
    },
    {
     "data": {
      "image/png": "[encoded data removed]",
      "text/plain": [
       "<Figure size 432x288 with 1 Axes>"
      ]
     },
     "metadata": {
      "needs_background": "light"
     },
     "output_type": "display_data"
    }
   ],
   "source": [
    "xaxis, yaxis = modeldata.T\n",
    "pl.plot(xaxis, yaxis)"
   ]
  },
  {
   "cell_type": "code",
   "execution_count": 10,
   "id": "hundred-booking",
   "metadata": {},
   "outputs": [],
   "source": [
    "from astropy import units as u"
   ]
  },
  {
   "cell_type": "code",
   "execution_count": null,
   "id": "limiting-dayton",
   "metadata": {},
   "outputs": [],
   "source": [
    "xclass_spectrum = pyspeckit.Spectrum(xarr=xaxis*u.MHz, data=yaxis*u.K)"
   ]
  },
  {
   "cell_type": "code",
   "execution_count": null,
   "id": "original-crazy",
   "metadata": {},
   "outputs": [],
   "source": [
    "xclass_spectrum.plotter()"
   ]
  },
  {
   "cell_type": "code",
   "execution_count": null,
   "id": "occupied-excess",
   "metadata": {},
   "outputs": [],
   "source": [
    "from pyspeckit.spectrum.models import lte_molecule\n",
    "from pyspeckit.spectrum.models.lte_molecule import get_molecular_parameters, generate_model, generate_fitter"
   ]
  },
  {
   "cell_type": "code",
   "execution_count": null,
   "id": "underlying-cylinder",
   "metadata": {},
   "outputs": [],
   "source": [
    "Jfreqs, Jaij, Jdeg, JEU, Jpartfunc = get_molecular_parameters('CH3OH',\n",
    "                                                         catalog='JPL',\n",
    "                                                         fmin=FreqMin*u.MHz,\n",
    "                                                         fmax=FreqMax*u.MHz)\n",
    "def modfunc_JPL(xarr, vcen, width, tex, column):\n",
    "    return generate_model(xarr, vcen, width, tex, column, freqs=Jfreqs, aij=Jaij,\n",
    "                          deg=Jdeg, EU=JEU, partfunc=Jpartfunc)"
   ]
  },
  {
   "cell_type": "code",
   "execution_count": null,
   "id": "therapeutic-perth",
   "metadata": {},
   "outputs": [],
   "source": [
    "freqs, aij, deg, EU, partfunc = get_molecular_parameters('CH3OH, vt=0-2',\n",
    "                                                         catalog='CDMS',\n",
    "                                                         fmin=FreqMin*u.MHz,\n",
    "                                                         fmax=FreqMax*u.MHz)\n",
    "def modfunc_CDMS(xarr, vcen, width, tex, column):\n",
    "    return generate_model(xarr, vcen, width, tex, column, freqs=freqs, aij=aij,\n",
    "                          deg=deg, EU=EU, partfunc=partfunc)"
   ]
  },
  {
   "cell_type": "code",
   "execution_count": null,
   "id": "accessory-provision",
   "metadata": {},
   "outputs": [],
   "source": [
    "model_JPL = pyspeckit.Spectrum(xarr=xclass_spectrum.xarr, data=modfunc_JPL(xclass_spectrum.xarr, vcen, vwidth, tkin, Ntot))\n",
    "model_CDMS = pyspeckit.Spectrum(xarr=xclass_spectrum.xarr, data=modfunc_CDMS(xclass_spectrum.xarr, vcen, vwidth, tkin, Ntot))"
   ]
  },
  {
   "cell_type": "code",
   "execution_count": null,
   "id": "sticky-grenada",
   "metadata": {},
   "outputs": [],
   "source": [
    "fig = pl.figure(figsize=(12,8))\n",
    "xclass_spectrum.plotter(figure=fig)\n",
    "model_JPL.plotter(clear=False, color='r', axis=xclass_spectrum.plotter.axis)\n",
    "model_CDMS.plotter(clear=False, color='b', axis=xclass_spectrum.plotter.axis)\n",
    "xclass_spectrum.plotter.axis.set_xlim(216920, 217400)\n",
    "xclass_spectrum.plotter.axis.set_ylim(-0.1, 20)"
   ]
  },
  {
   "cell_type": "code",
   "execution_count": null,
   "id": "specified-envelope",
   "metadata": {},
   "outputs": [],
   "source": [
    "fig = pl.figure(figsize=(12,8))\n",
    "xclass_spectrum.plotter(figure=fig)\n",
    "model_JPL.plotter(clear=False, color='r', axis=xclass_spectrum.plotter.axis)\n",
    "model_CDMS.plotter(clear=False, color='b', axis=xclass_spectrum.plotter.axis)\n",
    "#xclass_spectrum.plotter.axis.set_xlim(216920, 217400)\n",
    "#xclass_spectrum.plotter.axis.set_ylim(-0.1, 20)"
   ]
  },
  {
   "cell_type": "code",
   "execution_count": null,
   "id": "treated-broadcast",
   "metadata": {},
   "outputs": [],
   "source": [
    "fig = pl.figure(figsize=(12,8))\n",
    "diff = xclass_spectrum - model_JPL\n",
    "diff.plotter(figure=fig, xmin=232.5e3, xmax=235e3)"
   ]
  },
  {
   "cell_type": "code",
   "execution_count": null,
   "id": "communist-script",
   "metadata": {},
   "outputs": [],
   "source": [
    "fig = pl.figure(figsize=(12,8))\n",
    "diff = model_CDMS - model_JPL\n",
    "diff.plotter(figure=fig, xmin=232.5e3, xmax=235e3)"
   ]
  },
  {
   "cell_type": "code",
   "execution_count": null,
   "id": "theoretical-refrigerator",
   "metadata": {},
   "outputs": [],
   "source": [
    "fig = pl.figure(figsize=(12,8))\n",
    "diff = xclass_spectrum - model_CDMS\n",
    "diff.plotter(figure=fig, xmin=232.5e3, xmax=235e3)"
   ]
  },
  {
   "cell_type": "code",
   "execution_count": null,
   "id": "assumed-starter",
   "metadata": {},
   "outputs": [],
   "source": [
    "from astropy.table import Table"
   ]
  },
  {
   "cell_type": "code",
   "execution_count": null,
   "id": "spare-ivory",
   "metadata": {},
   "outputs": [],
   "source": [
    "xclass_transitions = [{'freq': float(x[0]),\n",
    "                       'intensity': float(x[2]),\n",
    "                       'integrated_intensity': float(x[3]),\n",
    "                       'elow': float(x[4]),\n",
    "                       'gup': int(float(x[5])),\n",
    "                       'aij': float(x[6]),\n",
    "                       'Q': \" \".join(x[7:-1]),\n",
    "                       'name': x[-1]}\n",
    "                      for x in TransEnergies[1:]]\n",
    "xctb = Table(xclass_transitions)"
   ]
  },
  {
   "cell_type": "code",
   "execution_count": null,
   "id": "appreciated-compromise",
   "metadata": {},
   "outputs": [],
   "source": [
    "len(xctb[xctb['intensity'] > 0])"
   ]
  },
  {
   "cell_type": "code",
   "execution_count": null,
   "id": "killing-trauma",
   "metadata": {},
   "outputs": [],
   "source": [
    "xctb.sort('intensity', reverse=True)"
   ]
  },
  {
   "cell_type": "code",
   "execution_count": null,
   "id": "classified-target",
   "metadata": {},
   "outputs": [],
   "source": [
    "def parse_qn(st):\n",
    "    #print(st)\n",
    "    entries = [x.split(\" = \") for x in st.split(\";\")]\n",
    "    #print(entries)\n",
    "    urslt = {entry[0].lstrip(): entry[1].strip() for entry in entries[:5]}\n",
    "    lrslt = {entry[0].lstrip(): entry[1].strip() for entry in entries[5:10]}\n",
    "    #print(urslt, lrslt)\n",
    "    return urslt, lrslt"
   ]
  },
  {
   "cell_type": "code",
   "execution_count": null,
   "id": "balanced-hunter",
   "metadata": {},
   "outputs": [],
   "source": [
    "fig = pl.figure(figsize=(18,16))\n",
    "for ii,row in enumerate(xctb):\n",
    "    if ii+1 > 25:\n",
    "        break\n",
    "    fmin, fmax = row['freq']*(1-2/3e5)*u.MHz, row['freq']*(1+18/3e5)*u.MHz\n",
    "    ax = pl.subplot(5,5,ii+1)\n",
    "    \n",
    "    QN = parse_qn(row['Q'])\n",
    "    label = f\"{QN[0]['rovibSym']} {QN[0]['J']},{QN[0]['Ka']}-{QN[1]['J']},{QN[1]['Ka']}\"\n",
    "    ax.set_title(label)\n",
    "    \n",
    "    xclass_spectrum.plotter(axis=ax, clear=False, linewidth=1)\n",
    "    model_CDMS.plotter(color='b', axis=ax, clear=False, xmin=fmin, xmax=fmax)    \n",
    "    model_JPL.plotter(color='r', axis=ax, clear=False, xmin=fmin, xmax=fmax, linewidth=0.75)\n",
    "\n",
    "    if ii % 5 != 0:\n",
    "        ax.set_ylabel('')\n",
    "    if ii <= 20:\n",
    "        ax.set_xlabel('')"
   ]
  },
  {
   "cell_type": "code",
   "execution_count": null,
   "id": "subject-lucas",
   "metadata": {},
   "outputs": [],
   "source": []
  }
 ],
 "metadata": {
  "kernelspec": {
   "display_name": "python39",
   "language": "python",
   "name": "python39"
  },
  "language_info": {
   "codemirror_mode": {
    "name": "ipython",
    "version": 3
   },
   "file_extension": ".py",
   "mimetype": "text/x-python",
   "name": "python",
   "nbconvert_exporter": "python",
   "pygments_lexer": "ipython3",
   "version": "3.9.13"
  }
 },
 "nbformat": 4,
 "nbformat_minor": 5
}
