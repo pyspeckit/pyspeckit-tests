{
 "cells": [
  {
   "cell_type": "code",
   "execution_count": null,
   "id": "incident-discharge",
   "metadata": {},
   "outputs": [
    {
     "name": "stdout",
     "output_type": "stream",
     "text": [
      "\n",
      "Start function myXCLASS:\n",
      "\n",
      "\n",
      "Creating job directory for function myXCLASS: /orange/adamginsburg/software/XCLASS-Interface/run/myXCLASS/job__03-09-2021__16-10-15__261157718/ .. done!\n",
      "\n",
      "All files of the current myXCLASS run are stored here!\n",
      "\n",
      "\n",
      "Analyze molfit file .. done!\n",
      "\n",
      "\n",
      "Check, if names of molecules in molfit file are included in XCLASS database .. done!\n",
      "\n",
      "\n",
      "\n"
     ]
    }
   ],
   "source": [
    "%run run_xclass_ch3oh.py"
   ]
  },
  {
   "cell_type": "code",
   "execution_count": null,
   "id": "descending-concrete",
   "metadata": {},
   "outputs": [],
   "source": [
    "import pyspeckit"
   ]
  },
  {
   "cell_type": "code",
   "execution_count": null,
   "id": "adjusted-pioneer",
   "metadata": {},
   "outputs": [],
   "source": [
    "%matplotlib inline\n",
    "import pylab as pl"
   ]
  },
  {
   "cell_type": "code",
   "execution_count": null,
   "id": "silver-briefing",
   "metadata": {},
   "outputs": [],
   "source": [
    "xaxis, yaxis = modeldata.T\n",
    "pl.plot(xaxis, yaxis)"
   ]
  },
  {
   "cell_type": "code",
   "execution_count": null,
   "id": "suspected-conditions",
   "metadata": {},
   "outputs": [],
   "source": [
    "from astropy import units as u"
   ]
  },
  {
   "cell_type": "code",
   "execution_count": null,
   "id": "behind-spray",
   "metadata": {},
   "outputs": [],
   "source": [
    "xclass_spectrum = pyspeckit.Spectrum(xarr=xaxis*u.MHz, data=yaxis*u.K)"
   ]
  },
  {
   "cell_type": "code",
   "execution_count": null,
   "id": "criminal-armstrong",
   "metadata": {},
   "outputs": [],
   "source": [
    "xclass_spectrum.plotter()"
   ]
  },
  {
   "cell_type": "code",
   "execution_count": null,
   "id": "velvet-simon",
   "metadata": {},
   "outputs": [],
   "source": [
    "source_size =  4.3350376922e+00\n",
    "tkin = 7.9842254347e+01\n",
    "Ntot = 3.7061155735e+17\n",
    "vwidth = 4.2101396644e+00\n",
    "vcen = -7.9000000000e+00"
   ]
  },
  {
   "cell_type": "code",
   "execution_count": null,
   "id": "senior-rolling",
   "metadata": {},
   "outputs": [],
   "source": [
    "from pyspeckit.spectrum.models import lte_molecule\n",
    "from pyspeckit.spectrum.models.lte_molecule import get_molecular_parameters, generate_model, generate_fitter"
   ]
  },
  {
   "cell_type": "code",
   "execution_count": null,
   "id": "incoming-postage",
   "metadata": {},
   "outputs": [],
   "source": [
    "freqs, aij, deg, EU, partfunc = get_molecular_parameters('CH3OH',\n",
    "                                                         fmin=FreqMin*u.MHz,\n",
    "                                                         fmax=FreqMax*u.MHz)\n",
    "def modfunc(xarr, vcen, width, tex, column):\n",
    "    return generate_model(xarr, vcen, width, tex, column, freqs=freqs, aij=aij,\n",
    "                          deg=deg, EU=EU, partfunc=partfunc)\n",
    "\n",
    "fitter = generate_fitter(modfunc, name=\"CH3OH\")"
   ]
  },
  {
   "cell_type": "code",
   "execution_count": null,
   "id": "african-delicious",
   "metadata": {},
   "outputs": [],
   "source": [
    "model = pyspeckit.Spectrum(xarr=xclass_spectrum.xarr, data=modfunc(xclass_spectrum.xarr, vcen, vwidth, tkin, Ntot))"
   ]
  },
  {
   "cell_type": "code",
   "execution_count": null,
   "id": "optical-parking",
   "metadata": {},
   "outputs": [],
   "source": [
    "xclass_spectrum.plotter()\n",
    "model.plotter(clear=False, color='r', axis=xclass_spectrum.plotter.axis)\n",
    "xclass_spectrum.plotter.axis.set_xlim(217000, 219000)\n",
    "xclass_spectrum.plotter.axis.set_ylim(-0.1, 10)"
   ]
  },
  {
   "cell_type": "code",
   "execution_count": null,
   "id": "conventional-benjamin",
   "metadata": {},
   "outputs": [],
   "source": []
  }
 ],
 "metadata": {
  "kernelspec": {
   "display_name": "Py 3.9",
   "language": "python",
   "name": "python39"
  },
  "language_info": {
   "codemirror_mode": {
    "name": "ipython",
    "version": 3
   },
   "file_extension": ".py",
   "mimetype": "text/x-python",
   "name": "python",
   "nbconvert_exporter": "python",
   "pygments_lexer": "ipython3",
   "version": "3.9.2"
  }
 },
 "nbformat": 4,
 "nbformat_minor": 5
}
