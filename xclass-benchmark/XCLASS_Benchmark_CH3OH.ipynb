{
 "cells": [
  {
   "cell_type": "code",
   "execution_count": 1,
   "id": "active-implement",
   "metadata": {},
   "outputs": [
    {
     "name": "stdout",
     "output_type": "stream",
     "text": [
      "\n",
      "Start function myXCLASS:\n",
      "\n",
      "\n",
      "Creating job directory for function myXCLASS: /orange/adamginsburg/software/XCLASS-Interface/run/myXCLASS/job__03-09-2021__20-42-28__33533464/ .. done!\n",
      "\n",
      "All files of the current myXCLASS run are stored here!\n",
      "\n",
      "\n",
      "Set environment variable MAGIXTempDirectory =  /orange/adamginsburg/software/XCLASS-Interface/programs/MAGIX/temp/\n",
      "Analyze molfit file .. done!\n",
      "\n",
      "\n",
      "Check, if names of molecules in molfit file are included in XCLASS database .. done!\n",
      "\n",
      "\n",
      "\n",
      "\n",
      "Import calculated myXCLASS spectrum .. done!\n",
      "\n",
      "Read in intensities for each molecule and for each component .. done!\n",
      "\n",
      "Read in optical depths for each molecule and for each component .. done!\n",
      "\n",
      "All files of the current myXCLASS run are stored in the job directory /orange/adamginsburg/software/XCLASS-Interface/run/myXCLASS/job__03-09-2021__20-42-28__33533464/!\n",
      "\n",
      "\n"
     ]
    }
   ],
   "source": [
    "%run run_xclass_ch3oh.py"
   ]
  },
  {
   "cell_type": "code",
   "execution_count": 2,
   "id": "previous-actor",
   "metadata": {},
   "outputs": [],
   "source": [
    "import pyspeckit"
   ]
  },
  {
   "cell_type": "code",
   "execution_count": 3,
   "id": "original-philadelphia",
   "metadata": {},
   "outputs": [],
   "source": [
    "%matplotlib inline\n",
    "import pylab as pl"
   ]
  },
  {
   "cell_type": "code",
   "execution_count": 4,
   "id": "sixth-journalist",
   "metadata": {},
   "outputs": [
    {
     "data": {
      "text/plain": [
       "[<matplotlib.lines.Line2D at 0x2b434e845b80>]"
      ]
     },
     "execution_count": 4,
     "metadata": {},
     "output_type": "execute_result"
    },
    {
     "data": {
      "image/png": "[encoded data removed]",
      "text/plain": [
       "<Figure size 432x288 with 1 Axes>"
      ]
     },
     "metadata": {
      "needs_background": "light"
     },
     "output_type": "display_data"
    }
   ],
   "source": [
    "xaxis, yaxis = modeldata.T\n",
    "pl.plot(xaxis, yaxis)"
   ]
  },
  {
   "cell_type": "code",
   "execution_count": 5,
   "id": "molecular-anniversary",
   "metadata": {},
   "outputs": [],
   "source": [
    "from astropy import units as u"
   ]
  },
  {
   "cell_type": "code",
   "execution_count": 6,
   "id": "younger-passenger",
   "metadata": {},
   "outputs": [
    {
     "name": "stderr",
     "output_type": "stream",
     "text": [
      "WARNING: No header given.  Creating an empty one.\n"
     ]
    }
   ],
   "source": [
    "xclass_spectrum = pyspeckit.Spectrum(xarr=xaxis*u.MHz, data=yaxis*u.K)"
   ]
  },
  {
   "cell_type": "code",
   "execution_count": 7,
   "id": "lyric-calgary",
   "metadata": {},
   "outputs": [
    {
     "name": "stderr",
     "output_type": "stream",
     "text": [
      "support for accessing str attributes such as 'lower' from PhysicalType instances is deprecated since 4.3 and will be removed in a subsequent release.\n",
      "support for accessing str attributes such as 'title' from PhysicalType instances is deprecated since 4.3 and will be removed in a subsequent release.\n"
     ]
    },
    {
     "data": {
      "image/png": "[encoded data removed]",
      "text/plain": [
       "<Figure size 432x288 with 1 Axes>"
      ]
     },
     "metadata": {
      "needs_background": "light"
     },
     "output_type": "display_data"
    }
   ],
   "source": [
    "xclass_spectrum.plotter()"
   ]
  },
  {
   "cell_type": "code",
   "execution_count": 8,
   "id": "later-spain",
   "metadata": {},
   "outputs": [],
   "source": [
    "source_size =  4.3350376922e+00\n",
    "tkin = 7.9842254347e+01\n",
    "Ntot = 3.7061155735e+17\n",
    "vwidth = 4.2101396644e+00 / np.sqrt(8*np.log(2))\n",
    "vcen = -7.9000000000e+00"
   ]
  },
  {
   "cell_type": "code",
   "execution_count": 9,
   "id": "stupid-miniature",
   "metadata": {},
   "outputs": [],
   "source": [
    "from pyspeckit.spectrum.models import lte_molecule\n",
    "from pyspeckit.spectrum.models.lte_molecule import get_molecular_parameters, generate_model, generate_fitter"
   ]
  },
  {
   "cell_type": "code",
   "execution_count": 10,
   "id": "heard-making",
   "metadata": {},
   "outputs": [],
   "source": [
    "freqs, aij, deg, EU, partfunc = get_molecular_parameters('CH3OH',\n",
    "                                                         catalog='JPL',\n",
    "                                                         fmin=FreqMin*u.MHz,\n",
    "                                                         fmax=FreqMax*u.MHz)\n",
    "def modfunc_JPL(xarr, vcen, width, tex, column):\n",
    "    return generate_model(xarr, vcen, width, tex, column, freqs=freqs, aij=aij,\n",
    "                          deg=deg, EU=EU, partfunc=partfunc)"
   ]
  },
  {
   "cell_type": "code",
   "execution_count": 11,
   "id": "returning-madonna",
   "metadata": {},
   "outputs": [
    {
     "name": "stderr",
     "output_type": "stream",
     "text": [
      "divide by zero encountered in true_divide\n"
     ]
    }
   ],
   "source": [
    "freqs, aij, deg, EU, partfunc = get_molecular_parameters('CH3OH, vt=0-2',\n",
    "                                                         catalog='CDMS',\n",
    "                                                         fmin=FreqMin*u.MHz,\n",
    "                                                         fmax=FreqMax*u.MHz)\n",
    "def modfunc_CDMS(xarr, vcen, width, tex, column):\n",
    "    return generate_model(xarr, vcen, width, tex, column, freqs=freqs, aij=aij,\n",
    "                          deg=deg, EU=EU, partfunc=partfunc)"
   ]
  },
  {
   "cell_type": "code",
   "execution_count": 12,
   "id": "respected-caribbean",
   "metadata": {},
   "outputs": [
    {
     "name": "stderr",
     "output_type": "stream",
     "text": [
      "WARNING: No header given.  Creating an empty one.\n",
      "WARNING: No header given.  Creating an empty one.\n"
     ]
    }
   ],
   "source": [
    "model_JPL = pyspeckit.Spectrum(xarr=xclass_spectrum.xarr, data=modfunc_JPL(xclass_spectrum.xarr, vcen, vwidth, tkin, Ntot))\n",
    "model_CDMS = pyspeckit.Spectrum(xarr=xclass_spectrum.xarr, data=modfunc_CDMS(xclass_spectrum.xarr, vcen, vwidth, tkin, Ntot))"
   ]
  },
  {
   "cell_type": "code",
   "execution_count": 24,
   "id": "laughing-stadium",
   "metadata": {},
   "outputs": [
    {
     "name": "stderr",
     "output_type": "stream",
     "text": [
      "WARNING: AstropyDeprecationWarning: support for accessing str attributes such as 'lower' from PhysicalType instances is deprecated since 4.3 and will be removed in a subsequent release. [astropy.units.physical]\n",
      "WARNING: AstropyDeprecationWarning: support for accessing str attributes such as 'title' from PhysicalType instances is deprecated since 4.3 and will be removed in a subsequent release. [astropy.units.physical]\n",
      "WARNING: AstropyDeprecationWarning: support for accessing str attributes such as 'lower' from PhysicalType instances is deprecated since 4.3 and will be removed in a subsequent release. [astropy.units.physical]\n",
      "WARNING: AstropyDeprecationWarning: support for accessing str attributes such as 'title' from PhysicalType instances is deprecated since 4.3 and will be removed in a subsequent release. [astropy.units.physical]\n",
      "WARNING: AstropyDeprecationWarning: support for accessing str attributes such as 'lower' from PhysicalType instances is deprecated since 4.3 and will be removed in a subsequent release. [astropy.units.physical]\n",
      "WARNING: AstropyDeprecationWarning: support for accessing str attributes such as 'title' from PhysicalType instances is deprecated since 4.3 and will be removed in a subsequent release. [astropy.units.physical]\n"
     ]
    },
    {
     "data": {
      "text/plain": [
       "(-0.1, 20.0)"
      ]
     },
     "execution_count": 24,
     "metadata": {},
     "output_type": "execute_result"
    },
    {
     "data": {
      "image/png": "[encoded data removed]",
      "text/plain": [
       "<Figure size 864x576 with 1 Axes>"
      ]
     },
     "metadata": {
      "needs_background": "light"
     },
     "output_type": "display_data"
    }
   ],
   "source": [
    "fig = pl.figure(figsize=(12,8))\n",
    "xclass_spectrum.plotter(figure=fig)\n",
    "model_JPL.plotter(clear=False, color='r', axis=xclass_spectrum.plotter.axis)\n",
    "model_CDMS.plotter(clear=False, color='b', axis=xclass_spectrum.plotter.axis)\n",
    "xclass_spectrum.plotter.axis.set_xlim(216920, 217400)\n",
    "xclass_spectrum.plotter.axis.set_ylim(-0.1, 20)"
   ]
  },
  {
   "cell_type": "code",
   "execution_count": null,
   "id": "catholic-feelings",
   "metadata": {},
   "outputs": [],
   "source": []
  },
  {
   "cell_type": "code",
   "execution_count": null,
   "id": "senior-raising",
   "metadata": {},
   "outputs": [],
   "source": []
  }
 ],
 "metadata": {
  "kernelspec": {
   "display_name": "Py 3.9",
   "language": "python",
   "name": "python39"
  },
  "language_info": {
   "codemirror_mode": {
    "name": "ipython",
    "version": 3
   },
   "file_extension": ".py",
   "mimetype": "text/x-python",
   "name": "python",
   "nbconvert_exporter": "python",
   "pygments_lexer": "ipython3",
   "version": "3.9.2"
  }
 },
 "nbformat": 4,
 "nbformat_minor": 5
}
