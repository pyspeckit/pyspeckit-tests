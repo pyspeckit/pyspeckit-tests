{
 "cells": [
  {
   "cell_type": "code",
   "execution_count": 1,
   "id": "renewable-leone",
   "metadata": {},
   "outputs": [],
   "source": [
    "source_size =  4.3350376922e+00\n",
    "tkin = 7.9842254347e+01\n",
    "Ntot = 1.1061155735e+17\n",
    "vwidthfwhm = 4.2101396644e+00\n",
    "vwidth = vwidthfwhm / np.sqrt(8*np.log(2))\n",
    "vcen = -1.1000000000e+00"
   ]
  },
  {
   "cell_type": "code",
   "execution_count": 2,
   "id": "earned-colleague",
   "metadata": {},
   "outputs": [],
   "source": [
    "import sys\n",
    "import os\n",
    "## get path of current directory\n",
    "LocalPath = os.getcwd() + \"/\"\n",
    "\n",
    "with open(\"CO_pure.molfit\", \"w\") as fh:\n",
    "    fh.write(f\"\"\"\n",
    "%============================================================================================================================\n",
    "%\n",
    "% define molecules and their components:\n",
    "%\n",
    "%============================================================================================================================\n",
    "%    source size:                 T_kin:               N_tot:            V_width:                V_off:   CFFlag:    keyword:\n",
    "%       [arcsec]:                   [K]:              [cm-2]:            [km /s]:              [km /s]:       []:         []:\n",
    "CO;v=0;           1\n",
    " {source_size}       {tkin}     {Ntot}     {vwidthfwhm}    {vcen}         c\n",
    "\"\"\")\n",
    "# get path of XCLASS directory\n",
    "XCLASSRootDir = str(os.environ.get('XCLASSRootDir', '')).strip()\n",
    "XCLASSRootDir = os.path.normpath(XCLASSRootDir) + \"/\"\n",
    "\n",
    "# extend sys.path variable\n",
    "NewPath = XCLASSRootDir + \"build_tasks/\"\n",
    "if (not NewPath in sys.path):\n",
    "    sys.path.append(NewPath)\n",
    "\n",
    "import task_myXCLASS\n",
    "\n",
    "# define path and name of molfit file\n",
    "#DEFAULT MolfitsFileName = LocalPath + \"files/my_molecules.molfit\"\n",
    "MolfitsFileName = LocalPath + 'CO_pure.molfit'\n",
    "\n",
    "\n",
    "\n",
    "# define freq. step (in MHz)\n",
    "FreqStep = 0.1\n",
    "\n",
    "# depending on parameter \"Inter_Flag\" define beam size (in arcsec)\n",
    "# (Inter_Flag = True) or size of telescope (in m) (Inter_Flag = False)\n",
    "TelescopeSize = 1.0 # arcseconds\n",
    "\n",
    "# define beam minor axis length (in arsec)\n",
    "BMIN = None\n",
    "\n",
    "# define beam major axis length (in arsec)\n",
    "BMAJ = None\n",
    "\n",
    "# define beam position angle (in degree)\n",
    "BPA = None\n",
    "\n",
    "# interferrometric data?\n",
    "Inter_Flag = True\n",
    "\n",
    "# define red shift\n",
    "Redshift = None\n",
    "\n",
    "# BACKGROUND: describe continuum with tBack and tslope only\n",
    "t_back_flag = True\n",
    "\n",
    "# BACKGROUND: define background temperature (in K)\n",
    "tBack = 0.0\n",
    "\n",
    "# BACKGROUND: define temperature slope (dimensionless)\n",
    "tslope = 0.0\n",
    "\n",
    "# BACKGROUND: define path and name of ASCII file describing continuum as function\n",
    "#             of frequency\n",
    "BackgroundFileName = \"\"\n",
    "\n",
    "# DUST: define hydrogen column density (in cm^(-2))\n",
    "N_H = 1.e22\n",
    "\n",
    "# DUST: define spectral index for dust (dimensionless)\n",
    "beta_dust = 0.0\n",
    "\n",
    "# DUST: define kappa at 1.3 mm (cm^(2) g^(-1))\n",
    "kappa_1300 = 0.0\n",
    "\n",
    "# DUST: define path and name of ASCII file describing dust opacity as\n",
    "#       function of frequency\n",
    "DustFileName = \"\"\n",
    "\n",
    "# FREE-FREE: define electronic temperature (in K)\n",
    "Te_ff = None\n",
    "\n",
    "# FREE-FREE: define emission measure (in pc cm^(-6))\n",
    "EM_ff = None\n",
    "\n",
    "# SYNCHROTRON: define kappa of energy spectrum of electrons (electrons m^(−3) GeV^(-1))\n",
    "kappa_sync = None\n",
    "\n",
    "# SYNCHROTRON: define magnetic field (in Gauss)\n",
    "B_sync = None\n",
    "\n",
    "# SYNCHROTRON: energy spectral index (dimensionless)\n",
    "p_sync = None\n",
    "\n",
    "# SYNCHROTRON: thickness of slab (in AU)\n",
    "l_sync = None\n",
    "\n",
    "# PHEN-CONT: define phenomenological function which is used to describe\n",
    "#            the continuum\n",
    "ContPhenFuncID = None\n",
    "\n",
    "# PHEN-CONT: define first parameter for phenomenological function\n",
    "ContPhenFuncParam1 = None\n",
    "\n",
    "# PHEN-CONT: define second parameter for phenomenological function\n",
    "ContPhenFuncParam2 = None\n",
    "\n",
    "# PHEN-CONT: define third parameter for phenomenological function\n",
    "ContPhenFuncParam3 = None\n",
    "\n",
    "# PHEN-CONT: define fourth parameter for phenomenological function\n",
    "ContPhenFuncParam4 = None\n",
    "\n",
    "# PHEN-CONT: define fifth parameter for phenomenological function\n",
    "ContPhenFuncParam5 = None\n",
    "\n",
    "# use iso ratio file?\n",
    "iso_flag = True\n",
    "\n",
    "# define path and name of iso ratio file\n",
    "#DEFAULT IsoTableFileName = LocalPath + \"files/my_isonames.txt\"\n",
    "IsoTableFileName = LocalPath + \"my_isonames.txt\"\n",
    "\n",
    "# define path and name of file describing Non-LTE parameters\n",
    "CollisionFileName = \"\"\n",
    "\n",
    "# define number of pixels in x-direction (used for sub-beam description)\n",
    "NumModelPixelXX = 100\n",
    "\n",
    "# define number of pixels in y-direction (used for sub-beam description)\n",
    "NumModelPixelYY = 100\n",
    "\n",
    "# take local-overlap into account or not\n",
    "LocalOverlapFlag = False\n",
    "\n",
    "# disable sub-beam description\n",
    "NoSubBeamFlag = True\n",
    "\n",
    "# define path and name of database file\n",
    "dbFilename = \"\"\n",
    "\n",
    "# define rest freq. (in MHz)\n",
    "RestFreq = 0.0\n",
    "\n",
    "# define v_lsr (in km/s)\n",
    "vLSR = 0.0"
   ]
  },
  {
   "cell_type": "code",
   "execution_count": 3,
   "id": "primary-pasta",
   "metadata": {},
   "outputs": [
    {
     "name": "stdout",
     "output_type": "stream",
     "text": [
      "\n",
      "Start function myXCLASS:\n",
      "\n",
      "\n",
      "Creating job directory for function myXCLASS: /orange/adamginsburg/software/XCLASS-Interface/run/myXCLASS/job__04-09-2021__09-52-01__173958904/ .. done!\n",
      "\n",
      "All files of the current myXCLASS run are stored here!\n",
      "\n",
      "\n",
      "Set environment variable MAGIXTempDirectory =  /orange/adamginsburg/software/XCLASS-Interface/programs/MAGIX/temp/\n",
      "Analyze molfit file .. done!\n",
      "\n",
      "\n",
      "Check, if names of molecules in molfit file are included in XCLASS database .. done!\n",
      "\n",
      "\n",
      "\n",
      "\n",
      "Import calculated myXCLASS spectrum .. done!\n",
      "\n",
      "Read in intensities for each molecule and for each component .. done!\n",
      "\n",
      "Read in optical depths for each molecule and for each component .. done!\n",
      "\n",
      "All files of the current myXCLASS run are stored in the job directory /orange/adamginsburg/software/XCLASS-Interface/run/myXCLASS/job__04-09-2021__09-52-01__173958904/!\n",
      "\n",
      "\n",
      "\n",
      "Start function myXCLASS:\n",
      "\n",
      "\n",
      "Creating job directory for function myXCLASS: /orange/adamginsburg/software/XCLASS-Interface/run/myXCLASS/job__04-09-2021__09-52-02__173951956/ .. done!\n",
      "\n",
      "All files of the current myXCLASS run are stored here!\n",
      "\n",
      "\n",
      "Analyze molfit file .. done!\n",
      "\n",
      "\n",
      "Check, if names of molecules in molfit file are included in XCLASS database .. done!\n",
      "\n",
      "\n",
      "\n",
      "\n",
      "Import calculated myXCLASS spectrum .. done!\n",
      "\n",
      "Read in intensities for each molecule and for each component .. done!\n",
      "\n",
      "Read in optical depths for each molecule and for each component .. done!\n",
      "\n",
      "All files of the current myXCLASS run are stored in the job directory /orange/adamginsburg/software/XCLASS-Interface/run/myXCLASS/job__04-09-2021__09-52-02__173951956/!\n",
      "\n",
      "\n",
      "\n",
      "Start function myXCLASS:\n",
      "\n",
      "\n",
      "Creating job directory for function myXCLASS: /orange/adamginsburg/software/XCLASS-Interface/run/myXCLASS/job__04-09-2021__09-52-02__173955078/ .. done!\n",
      "\n",
      "All files of the current myXCLASS run are stored here!\n",
      "\n",
      "\n",
      "Analyze molfit file .. done!\n",
      "\n",
      "\n",
      "Check, if names of molecules in molfit file are included in XCLASS database .. done!\n",
      "\n",
      "\n",
      "\n",
      "\n",
      "Import calculated myXCLASS spectrum .. done!\n",
      "\n",
      "Read in intensities for each molecule and for each component .. done!\n",
      "\n",
      "Read in optical depths for each molecule and for each component .. done!\n",
      "\n",
      "All files of the current myXCLASS run are stored in the job directory /orange/adamginsburg/software/XCLASS-Interface/run/myXCLASS/job__04-09-2021__09-52-02__173955078/!\n",
      "\n",
      "\n",
      "\n",
      "Start function myXCLASS:\n",
      "\n",
      "\n",
      "Creating job directory for function myXCLASS: /orange/adamginsburg/software/XCLASS-Interface/run/myXCLASS/job__04-09-2021__09-52-02__173955089/ .. done!\n",
      "\n",
      "All files of the current myXCLASS run are stored here!\n",
      "\n",
      "\n",
      "Analyze molfit file .. done!\n",
      "\n",
      "\n",
      "Check, if names of molecules in molfit file are included in XCLASS database .. done!\n",
      "\n",
      "\n",
      "\n",
      "\n",
      "Import calculated myXCLASS spectrum .. done!\n",
      "\n",
      "Read in intensities for each molecule and for each component .. done!\n",
      "\n",
      "Read in optical depths for each molecule and for each component .. done!\n",
      "\n",
      "All files of the current myXCLASS run are stored in the job directory /orange/adamginsburg/software/XCLASS-Interface/run/myXCLASS/job__04-09-2021__09-52-02__173955089/!\n",
      "\n",
      "\n",
      "\n",
      "Start function myXCLASS:\n",
      "\n",
      "\n",
      "Creating job directory for function myXCLASS: /orange/adamginsburg/software/XCLASS-Interface/run/myXCLASS/job__04-09-2021__09-52-03__173959615/ .. done!\n",
      "\n",
      "All files of the current myXCLASS run are stored here!\n",
      "\n",
      "\n",
      "Analyze molfit file .. done!\n",
      "\n",
      "\n",
      "Check, if names of molecules in molfit file are included in XCLASS database .. done!\n",
      "\n",
      "\n",
      "\n",
      "\n",
      "Import calculated myXCLASS spectrum .. done!\n",
      "\n",
      "Read in intensities for each molecule and for each component .. done!\n",
      "\n",
      "Read in optical depths for each molecule and for each component .. done!\n",
      "\n",
      "All files of the current myXCLASS run are stored in the job directory /orange/adamginsburg/software/XCLASS-Interface/run/myXCLASS/job__04-09-2021__09-52-03__173959615/!\n",
      "\n",
      "\n",
      "\n",
      "Start function myXCLASS:\n",
      "\n",
      "\n",
      "Creating job directory for function myXCLASS: /orange/adamginsburg/software/XCLASS-Interface/run/myXCLASS/job__04-09-2021__09-52-03__173957666/ .. done!\n",
      "\n",
      "All files of the current myXCLASS run are stored here!\n",
      "\n",
      "\n",
      "Analyze molfit file .. done!\n",
      "\n",
      "\n",
      "Check, if names of molecules in molfit file are included in XCLASS database .. done!\n",
      "\n",
      "\n",
      "\n",
      "\n",
      "Import calculated myXCLASS spectrum .. done!\n",
      "\n",
      "Read in intensities for each molecule and for each component .. done!\n",
      "\n",
      "Read in optical depths for each molecule and for each component .. done!\n",
      "\n",
      "All files of the current myXCLASS run are stored in the job directory /orange/adamginsburg/software/XCLASS-Interface/run/myXCLASS/job__04-09-2021__09-52-03__173957666/!\n",
      "\n",
      "\n",
      "\n",
      "Start function myXCLASS:\n",
      "\n",
      "\n",
      "Creating job directory for function myXCLASS: /orange/adamginsburg/software/XCLASS-Interface/run/myXCLASS/job__04-09-2021__09-52-04__173956975/ .. done!\n",
      "\n",
      "All files of the current myXCLASS run are stored here!\n",
      "\n",
      "\n",
      "Analyze molfit file .. done!\n",
      "\n",
      "\n",
      "Check, if names of molecules in molfit file are included in XCLASS database .. done!\n",
      "\n",
      "\n",
      "\n",
      "\n",
      "Import calculated myXCLASS spectrum .. done!\n",
      "\n",
      "Read in intensities for each molecule and for each component .. done!\n",
      "\n",
      "Read in optical depths for each molecule and for each component .. done!\n",
      "\n",
      "All files of the current myXCLASS run are stored in the job directory /orange/adamginsburg/software/XCLASS-Interface/run/myXCLASS/job__04-09-2021__09-52-04__173956975/!\n",
      "\n",
      "\n",
      "\n",
      "Start function myXCLASS:\n",
      "\n",
      "\n",
      "Creating job directory for function myXCLASS: /orange/adamginsburg/software/XCLASS-Interface/run/myXCLASS/job__04-09-2021__09-52-04__173955553/ .. done!\n",
      "\n",
      "All files of the current myXCLASS run are stored here!\n",
      "\n",
      "\n",
      "Analyze molfit file .. done!\n",
      "\n",
      "\n",
      "Check, if names of molecules in molfit file are included in XCLASS database .. done!\n",
      "\n",
      "\n",
      "\n",
      "\n",
      "Import calculated myXCLASS spectrum .. done!\n",
      "\n",
      "Read in intensities for each molecule and for each component .. done!\n",
      "\n",
      "Read in optical depths for each molecule and for each component .. done!\n",
      "\n",
      "All files of the current myXCLASS run are stored in the job directory /orange/adamginsburg/software/XCLASS-Interface/run/myXCLASS/job__04-09-2021__09-52-04__173955553/!\n",
      "\n",
      "\n",
      "\n",
      "Start function myXCLASS:\n",
      "\n",
      "\n",
      "Creating job directory for function myXCLASS: /orange/adamginsburg/software/XCLASS-Interface/run/myXCLASS/job__04-09-2021__09-52-05__173958791/ .. done!\n",
      "\n",
      "All files of the current myXCLASS run are stored here!\n",
      "\n",
      "\n",
      "Analyze molfit file .. done!\n",
      "\n",
      "\n",
      "Check, if names of molecules in molfit file are included in XCLASS database .. done!\n",
      "\n",
      "\n",
      "\n",
      "\n",
      "Import calculated myXCLASS spectrum .. done!\n",
      "\n",
      "Read in intensities for each molecule and for each component .. done!\n",
      "\n",
      "Read in optical depths for each molecule and for each component .. done!\n",
      "\n",
      "All files of the current myXCLASS run are stored in the job directory /orange/adamginsburg/software/XCLASS-Interface/run/myXCLASS/job__04-09-2021__09-52-05__173958791/!\n",
      "\n",
      "\n",
      "\n",
      "Start function myXCLASS:\n",
      "\n",
      "\n",
      "Creating job directory for function myXCLASS: /orange/adamginsburg/software/XCLASS-Interface/run/myXCLASS/job__04-09-2021__09-52-05__173953536/ .. done!\n",
      "\n",
      "All files of the current myXCLASS run are stored here!\n",
      "\n",
      "\n",
      "Analyze molfit file .. done!\n",
      "\n",
      "\n",
      "Check, if names of molecules in molfit file are included in XCLASS database .. done!\n",
      "\n",
      "\n",
      "\n",
      "\n",
      "Import calculated myXCLASS spectrum .. done!\n",
      "\n",
      "Read in intensities for each molecule and for each component .. done!\n",
      "\n",
      "Read in optical depths for each molecule and for each component .. done!\n",
      "\n",
      "All files of the current myXCLASS run are stored in the job directory /orange/adamginsburg/software/XCLASS-Interface/run/myXCLASS/job__04-09-2021__09-52-05__173953536/!\n",
      "\n",
      "\n",
      "\n",
      "Start function myXCLASS:\n",
      "\n",
      "\n",
      "Creating job directory for function myXCLASS: /orange/adamginsburg/software/XCLASS-Interface/run/myXCLASS/job__04-09-2021__09-52-06__173953901/ .. done!\n",
      "\n",
      "All files of the current myXCLASS run are stored here!\n",
      "\n",
      "\n",
      "Analyze molfit file .. done!\n",
      "\n",
      "\n",
      "Check, if names of molecules in molfit file are included in XCLASS database .. done!\n",
      "\n",
      "\n",
      "\n",
      "\n",
      "Import calculated myXCLASS spectrum .. done!\n",
      "\n",
      "Read in intensities for each molecule and for each component .. done!\n",
      "\n",
      "Read in optical depths for each molecule and for each component .. done!\n",
      "\n",
      "All files of the current myXCLASS run are stored in the job directory /orange/adamginsburg/software/XCLASS-Interface/run/myXCLASS/job__04-09-2021__09-52-06__173953901/!\n",
      "\n",
      "\n",
      "\n",
      "Start function myXCLASS:\n",
      "\n",
      "\n",
      "Creating job directory for function myXCLASS: /orange/adamginsburg/software/XCLASS-Interface/run/myXCLASS/job__04-09-2021__09-52-06__173951958/ .. done!\n",
      "\n",
      "All files of the current myXCLASS run are stored here!\n",
      "\n",
      "\n",
      "Analyze molfit file .. done!\n",
      "\n",
      "\n",
      "Check, if names of molecules in molfit file are included in XCLASS database .. done!\n",
      "\n",
      "\n",
      "\n",
      "\n",
      "Import calculated myXCLASS spectrum .. done!\n",
      "\n",
      "Read in intensities for each molecule and for each component .. done!\n",
      "\n",
      "Read in optical depths for each molecule and for each component .. done!\n",
      "\n",
      "All files of the current myXCLASS run are stored in the job directory /orange/adamginsburg/software/XCLASS-Interface/run/myXCLASS/job__04-09-2021__09-52-06__173951958/!\n",
      "\n",
      "\n",
      "\n",
      "Start function myXCLASS:\n",
      "\n",
      "\n",
      "Creating job directory for function myXCLASS: /orange/adamginsburg/software/XCLASS-Interface/run/myXCLASS/job__04-09-2021__09-52-07__173954787/ .. done!\n",
      "\n",
      "All files of the current myXCLASS run are stored here!\n",
      "\n",
      "\n",
      "Analyze molfit file .. done!\n",
      "\n",
      "\n",
      "Check, if names of molecules in molfit file are included in XCLASS database .. done!\n",
      "\n",
      "\n",
      "\n",
      "\n",
      "Import calculated myXCLASS spectrum .. done!\n",
      "\n",
      "Read in intensities for each molecule and for each component .. done!\n",
      "\n",
      "Read in optical depths for each molecule and for each component .. done!\n",
      "\n",
      "All files of the current myXCLASS run are stored in the job directory /orange/adamginsburg/software/XCLASS-Interface/run/myXCLASS/job__04-09-2021__09-52-07__173954787/!\n",
      "\n",
      "\n"
     ]
    }
   ],
   "source": [
    "frequencies = np.array([115271.2018,  230538.0000,  345795.9899, 461040.7682, 576267.9305, 691473.0763, 806651.8060, 921799.7000, 1036912.3930,\n",
    "                       1151985.4520, 1267014.4860, 1381995.1050, 1496922.9090])\n",
    "\n",
    "frequencies = frequencies[:,None] * np.array([1-20/3e5, 1+25/3e5])[None,:]\n",
    "results = []\n",
    "\n",
    "for FreqMin, FreqMax in frequencies:\n",
    "\n",
    "    ## call myXCLASS function\n",
    "    modeldata, log, TransEnergies, IntOpt, JobDir = task_myXCLASS.myXCLASS(\n",
    "                                                FreqMin, FreqMax, FreqStep,\n",
    "                                                TelescopeSize, BMIN, BMAJ,\n",
    "                                                BPA, Inter_Flag, Redshift,\n",
    "                                                t_back_flag, tBack, tslope,\n",
    "                                                BackgroundFileName,\n",
    "                                                N_H, beta_dust, kappa_1300,\n",
    "                                                DustFileName, Te_ff, EM_ff,\n",
    "                                                kappa_sync, B_sync, p_sync,\n",
    "                                                l_sync, ContPhenFuncID,\n",
    "                                                ContPhenFuncParam1,\n",
    "                                                ContPhenFuncParam2,\n",
    "                                                ContPhenFuncParam3,\n",
    "                                                ContPhenFuncParam4,\n",
    "                                                ContPhenFuncParam5,\n",
    "                                                MolfitsFileName, iso_flag,\n",
    "                                                IsoTableFileName,\n",
    "                                                CollisionFileName,\n",
    "                                                NumModelPixelXX,\n",
    "                                                NumModelPixelYY,\n",
    "                                                LocalOverlapFlag,\n",
    "                                                NoSubBeamFlag,\n",
    "                                                dbFilename,\n",
    "                                                RestFreq, vLSR)\n",
    "    results.append( (modeldata, log, TransEnergies, IntOpt, JobDir) )"
   ]
  },
  {
   "cell_type": "code",
   "execution_count": 4,
   "id": "surface-photography",
   "metadata": {},
   "outputs": [],
   "source": [
    "import pyspeckit"
   ]
  },
  {
   "cell_type": "code",
   "execution_count": 5,
   "id": "representative-tutorial",
   "metadata": {},
   "outputs": [],
   "source": [
    "from astropy import units as u"
   ]
  },
  {
   "cell_type": "code",
   "execution_count": 6,
   "id": "composed-ireland",
   "metadata": {},
   "outputs": [],
   "source": [
    "%matplotlib inline\n",
    "import pylab as pl"
   ]
  },
  {
   "cell_type": "code",
   "execution_count": 7,
   "id": "frozen-field",
   "metadata": {},
   "outputs": [
    {
     "name": "stdout",
     "output_type": "stream",
     "text": [
      "INFO: Creating spectra [pyspeckit.spectrum.classes]\n",
      "INFO: Concatenating data [pyspeckit.spectrum.classes]\n"
     ]
    },
    {
     "name": "stderr",
     "output_type": "stream",
     "text": [
      "WARNING: No header given.  Creating an empty one.\n",
      "WARNING: No header given.  Creating an empty one.\n",
      "WARNING: No header given.  Creating an empty one.\n",
      "WARNING: No header given.  Creating an empty one.\n",
      "WARNING: No header given.  Creating an empty one.\n",
      "WARNING: No header given.  Creating an empty one.\n",
      "WARNING: No header given.  Creating an empty one.\n",
      "WARNING: No header given.  Creating an empty one.\n",
      "WARNING: No header given.  Creating an empty one.\n",
      "WARNING: No header given.  Creating an empty one.\n",
      "WARNING: No header given.  Creating an empty one.\n",
      "WARNING: No header given.  Creating an empty one.\n",
      "WARNING: No header given.  Creating an empty one.\n"
     ]
    }
   ],
   "source": [
    "xclass_spectra = pyspeckit.Spectra([pyspeckit.Spectrum(data=modeldata.T[1]*u.K, xarr=modeldata.T[0]*u.MHz)\n",
    "                                    for (modeldata, log, TransEnergies, IntOpt, JobDir) in results])"
   ]
  },
  {
   "cell_type": "code",
   "execution_count": 8,
   "id": "successful-lesbian",
   "metadata": {},
   "outputs": [
    {
     "data": {
      "image/png": "[encoded data removed]",
      "text/plain": [
       "<Figure size 432x288 with 1 Axes>"
      ]
     },
     "metadata": {
      "needs_background": "light"
     },
     "output_type": "display_data"
    }
   ],
   "source": [
    "xclass_spectra.plotter()"
   ]
  },
  {
   "cell_type": "code",
   "execution_count": 9,
   "id": "executive-coach",
   "metadata": {},
   "outputs": [],
   "source": [
    "from pyspeckit.spectrum.models import lte_molecule\n",
    "from pyspeckit.spectrum.models.lte_molecule import get_molecular_parameters, generate_model, generate_fitter"
   ]
  },
  {
   "cell_type": "code",
   "execution_count": 10,
   "id": "average-chapter",
   "metadata": {},
   "outputs": [],
   "source": [
    "FreqMin = xclass_spectra.xarr.min()\n",
    "FreqMax = xclass_spectra.xarr.max()"
   ]
  },
  {
   "cell_type": "code",
   "execution_count": 11,
   "id": "green-american",
   "metadata": {},
   "outputs": [],
   "source": [
    "from astropy.table import Table"
   ]
  },
  {
   "cell_type": "code",
   "execution_count": 12,
   "id": "modified-raise",
   "metadata": {},
   "outputs": [
    {
     "data": {
      "text/html": [
       "<div><i>Table length=2000</i>\n",
       "<table id=\"table47830796407280\" class=\"table-striped table-bordered table-condensed\">\n",
       "<thead><tr><th>FREQ</th><th>ERR</th><th>LGINT</th><th>DR</th><th>ELO</th><th>GUP</th><th>TAG</th><th>QNFMT</th><th>QN&apos;</th><th>QN&quot;</th></tr></thead>\n",
       "<thead><tr><th>MHz</th><th>MHz</th><th>MHz nm2</th><th></th><th>1 / cm</th><th></th><th></th><th></th><th></th><th></th></tr></thead>\n",
       "<thead><tr><th>float64</th><th>float64</th><th>float64</th><th>int64</th><th>float64</th><th>int64</th><th>int64</th><th>int64</th><th>str10</th><th>str10</th></tr></thead>\n",
       "<tr><td>115271.2018</td><td>0.0005</td><td>-5.0105</td><td>2</td><td>0.0</td><td>3</td><td>-28001</td><td>101</td><td>1</td><td>0</td></tr>\n",
       "<tr><td>230538.0</td><td>0.0005</td><td>-4.1197</td><td>2</td><td>3.845</td><td>5</td><td>-28001</td><td>101</td><td>2</td><td>1</td></tr>\n",
       "<tr><td>345795.9899</td><td>0.0005</td><td>-3.6118</td><td>2</td><td>11.535</td><td>7</td><td>-28001</td><td>101</td><td>3</td><td>2</td></tr>\n",
       "<tr><td>461040.7682</td><td>0.0005</td><td>-3.2657</td><td>2</td><td>23.0695</td><td>9</td><td>-28001</td><td>101</td><td>4</td><td>3</td></tr>\n",
       "<tr><td>576267.9305</td><td>0.0005</td><td>-3.0118</td><td>2</td><td>38.4481</td><td>11</td><td>-28001</td><td>101</td><td>5</td><td>4</td></tr>\n",
       "<tr><td>691473.0763</td><td>0.0005</td><td>-2.8193</td><td>2</td><td>57.6704</td><td>13</td><td>-28001</td><td>101</td><td>6</td><td>5</td></tr>\n",
       "<tr><td>806651.806</td><td>0.005</td><td>-2.6716</td><td>2</td><td>80.7354</td><td>15</td><td>-28001</td><td>101</td><td>7</td><td>6</td></tr>\n",
       "<tr><td>921799.7</td><td>0.005</td><td>-2.559</td><td>2</td><td>107.6424</td><td>17</td><td>-28001</td><td>101</td><td>8</td><td>7</td></tr>\n",
       "<tr><td>1036912.393</td><td>0.005</td><td>-2.4751</td><td>2</td><td>138.3904</td><td>19</td><td>-28001</td><td>101</td><td>9</td><td>8</td></tr>\n",
       "<tr><td>...</td><td>...</td><td>...</td><td>...</td><td>...</td><td>...</td><td>...</td><td>...</td><td>...</td><td>...</td></tr>\n",
       "<tr><td>1229730.379</td><td>0.7637</td><td>-1.8002</td><td>2</td><td>1156.5481</td><td>33</td><td>30003</td><td>1304</td><td>17 1 216</td><td>16-1 215</td></tr>\n",
       "<tr><td>1229730.379</td><td>0.7637</td><td>-4.234</td><td>2</td><td>1156.5481</td><td>35</td><td>30003</td><td>1304</td><td>17 1 217</td><td>16-1 217</td></tr>\n",
       "<tr><td>1229730.379</td><td>0.7637</td><td>-1.7746</td><td>2</td><td>1156.5481</td><td>35</td><td>30003</td><td>1304</td><td>17 1 217</td><td>16-1 216</td></tr>\n",
       "<tr><td>1229730.379</td><td>0.7637</td><td>-1.7489</td><td>2</td><td>1156.5481</td><td>37</td><td>30003</td><td>1304</td><td>17 1 218</td><td>16-1 217</td></tr>\n",
       "<tr><td>1287443.0569</td><td>2.184</td><td>-5.4694</td><td>2</td><td>2949.7523</td><td>35</td><td>30003</td><td>1304</td><td>18 0 117</td><td>17 0 116</td></tr>\n",
       "<tr><td>1287443.0569</td><td>2.184</td><td>-5.4452</td><td>2</td><td>2949.7523</td><td>37</td><td>30003</td><td>1304</td><td>18 0 118</td><td>17 0 117</td></tr>\n",
       "<tr><td>1287443.0569</td><td>2.184</td><td>-5.4209</td><td>2</td><td>2949.7523</td><td>39</td><td>30003</td><td>1304</td><td>18 0 119</td><td>17 0 118</td></tr>\n",
       "<tr><td>1287984.701</td><td>1.7398</td><td>-4.052</td><td>2</td><td>2269.4392</td><td>35</td><td>30003</td><td>1304</td><td>18 0 317</td><td>17 0 316</td></tr>\n",
       "<tr><td>1287984.701</td><td>1.7398</td><td>-6.537</td><td>2</td><td>2269.4392</td><td>35</td><td>30003</td><td>1304</td><td>18 0 317</td><td>17 0 317</td></tr>\n",
       "<tr><td>1287984.701</td><td>1.7398</td><td>-4.0278</td><td>2</td><td>2269.4392</td><td>37</td><td>30003</td><td>1304</td><td>18 0 318</td><td>17 0 317</td></tr>\n",
       "</table></div>"
      ],
      "text/plain": [
       "<Table length=2000>\n",
       "    FREQ       ERR    LGINT    DR     ELO    ...  TAG   QNFMT   QN'      QN\"   \n",
       "    MHz        MHz   MHz nm2         1 / cm  ...                               \n",
       "  float64    float64 float64 int64  float64  ... int64  int64  str10    str10  \n",
       "------------ ------- ------- ----- --------- ... ------ ----- -------- --------\n",
       " 115271.2018  0.0005 -5.0105     2       0.0 ... -28001   101        1        0\n",
       "    230538.0  0.0005 -4.1197     2     3.845 ... -28001   101        2        1\n",
       " 345795.9899  0.0005 -3.6118     2    11.535 ... -28001   101        3        2\n",
       " 461040.7682  0.0005 -3.2657     2   23.0695 ... -28001   101        4        3\n",
       " 576267.9305  0.0005 -3.0118     2   38.4481 ... -28001   101        5        4\n",
       " 691473.0763  0.0005 -2.8193     2   57.6704 ... -28001   101        6        5\n",
       "  806651.806   0.005 -2.6716     2   80.7354 ... -28001   101        7        6\n",
       "    921799.7   0.005  -2.559     2  107.6424 ... -28001   101        8        7\n",
       " 1036912.393   0.005 -2.4751     2  138.3904 ... -28001   101        9        8\n",
       "         ...     ...     ...   ...       ... ...    ...   ...      ...      ...\n",
       " 1229730.379  0.7637 -1.8002     2 1156.5481 ...  30003  1304 17 1 216 16-1 215\n",
       " 1229730.379  0.7637  -4.234     2 1156.5481 ...  30003  1304 17 1 217 16-1 217\n",
       " 1229730.379  0.7637 -1.7746     2 1156.5481 ...  30003  1304 17 1 217 16-1 216\n",
       " 1229730.379  0.7637 -1.7489     2 1156.5481 ...  30003  1304 17 1 218 16-1 217\n",
       "1287443.0569   2.184 -5.4694     2 2949.7523 ...  30003  1304 18 0 117 17 0 116\n",
       "1287443.0569   2.184 -5.4452     2 2949.7523 ...  30003  1304 18 0 118 17 0 117\n",
       "1287443.0569   2.184 -5.4209     2 2949.7523 ...  30003  1304 18 0 119 17 0 118\n",
       " 1287984.701  1.7398  -4.052     2 2269.4392 ...  30003  1304 18 0 317 17 0 316\n",
       " 1287984.701  1.7398  -6.537     2 2269.4392 ...  30003  1304 18 0 317 17 0 317\n",
       " 1287984.701  1.7398 -4.0278     2 2269.4392 ...  30003  1304 18 0 318 17 0 317"
      ]
     },
     "execution_count": 12,
     "metadata": {},
     "output_type": "execute_result"
    }
   ],
   "source": [
    "from astroquery.jplspec import JPLSpec\n",
    "JPLSpec.query_lines(min_frequency=FreqMin, max_frequency=FreqMax, molecule='CO', parse_name_locally=True)"
   ]
  },
  {
   "cell_type": "code",
   "execution_count": 13,
   "id": "distinguished-error",
   "metadata": {},
   "outputs": [
    {
     "data": {
      "text/plain": [
       "(<Quantity 115263.51705 MHz>, <Quantity 1497047.6141 MHz>)"
      ]
     },
     "execution_count": 13,
     "metadata": {},
     "output_type": "execute_result"
    }
   ],
   "source": [
    "FreqMin,FreqMax"
   ]
  },
  {
   "cell_type": "code",
   "execution_count": 14,
   "id": "lucky-albert",
   "metadata": {},
   "outputs": [
    {
     "data": {
      "text/html": [
       "<div><i>Table length=13</i>\n",
       "<table id=\"table47830844612912\" class=\"table-striped table-bordered table-condensed\">\n",
       "<thead><tr><th>FREQ</th><th>ERR</th><th>LGINT</th><th>DR</th><th>ELO</th><th>GUP</th><th>TAG</th><th>QNFMT</th><th>Ju</th><th>Ku</th><th>vu</th><th>Jl</th><th>Kl</th><th>vl</th><th>F</th><th>name</th></tr></thead>\n",
       "<thead><tr><th>MHz</th><th>MHz</th><th>MHz nm2</th><th></th><th>1 / cm</th><th></th><th></th><th></th><th></th><th></th><th></th><th></th><th></th><th></th><th></th><th></th></tr></thead>\n",
       "<thead><tr><th>float64</th><th>float64</th><th>float64</th><th>int64</th><th>float64</th><th>int64</th><th>int64</th><th>int64</th><th>int64</th><th>int64</th><th>int64</th><th>int64</th><th>int64</th><th>int64</th><th>int64</th><th>str7</th></tr></thead>\n",
       "<tr><td>115271.2018</td><td>0.0005</td><td>-5.0105</td><td>2</td><td>0.0</td><td>3</td><td>-28503</td><td>101</td><td>1</td><td>--</td><td>--</td><td>--</td><td>--</td><td>--</td><td>0</td><td>CO, v=0</td></tr>\n",
       "<tr><td>230538.0</td><td>0.0005</td><td>-4.1197</td><td>2</td><td>3.845</td><td>5</td><td>-28503</td><td>101</td><td>2</td><td>--</td><td>--</td><td>--</td><td>--</td><td>--</td><td>1</td><td>CO, v=0</td></tr>\n",
       "<tr><td>345795.9899</td><td>0.0005</td><td>-3.6118</td><td>2</td><td>11.535</td><td>7</td><td>-28503</td><td>101</td><td>3</td><td>--</td><td>--</td><td>--</td><td>--</td><td>--</td><td>2</td><td>CO, v=0</td></tr>\n",
       "<tr><td>461040.7682</td><td>0.0005</td><td>-3.2657</td><td>2</td><td>23.0695</td><td>9</td><td>-28503</td><td>101</td><td>4</td><td>--</td><td>--</td><td>--</td><td>--</td><td>--</td><td>3</td><td>CO, v=0</td></tr>\n",
       "<tr><td>576267.9305</td><td>0.0005</td><td>-3.0118</td><td>2</td><td>38.4481</td><td>11</td><td>-28503</td><td>101</td><td>5</td><td>--</td><td>--</td><td>--</td><td>--</td><td>--</td><td>4</td><td>CO, v=0</td></tr>\n",
       "<tr><td>691473.0763</td><td>0.0005</td><td>-2.8193</td><td>2</td><td>57.6704</td><td>13</td><td>-28503</td><td>101</td><td>6</td><td>--</td><td>--</td><td>--</td><td>--</td><td>--</td><td>5</td><td>CO, v=0</td></tr>\n",
       "<tr><td>806651.806</td><td>0.005</td><td>-2.6716</td><td>2</td><td>80.7354</td><td>15</td><td>-28503</td><td>101</td><td>7</td><td>--</td><td>--</td><td>--</td><td>--</td><td>--</td><td>6</td><td>CO, v=0</td></tr>\n",
       "<tr><td>921799.7</td><td>0.005</td><td>-2.559</td><td>2</td><td>107.6424</td><td>17</td><td>-28503</td><td>101</td><td>8</td><td>--</td><td>--</td><td>--</td><td>--</td><td>--</td><td>7</td><td>CO, v=0</td></tr>\n",
       "<tr><td>1036912.393</td><td>0.005</td><td>-2.4751</td><td>2</td><td>138.3904</td><td>19</td><td>-28503</td><td>101</td><td>9</td><td>--</td><td>--</td><td>--</td><td>--</td><td>--</td><td>8</td><td>CO, v=0</td></tr>\n",
       "<tr><td>1151985.452</td><td>0.011</td><td>-2.4156</td><td>2</td><td>172.978</td><td>21</td><td>-28503</td><td>101</td><td>10</td><td>--</td><td>--</td><td>--</td><td>--</td><td>--</td><td>9</td><td>CO, v=0</td></tr>\n",
       "<tr><td>1267014.486</td><td>0.005</td><td>-2.3773</td><td>2</td><td>211.4041</td><td>23</td><td>-28503</td><td>101</td><td>11</td><td>--</td><td>--</td><td>--</td><td>--</td><td>--</td><td>10</td><td>CO, v=0</td></tr>\n",
       "<tr><td>1381995.105</td><td>0.013</td><td>-2.3581</td><td>2</td><td>253.6672</td><td>25</td><td>-28503</td><td>101</td><td>12</td><td>--</td><td>--</td><td>--</td><td>--</td><td>--</td><td>11</td><td>CO, v=0</td></tr>\n",
       "<tr><td>1496922.909</td><td>0.012</td><td>-2.3561</td><td>2</td><td>299.7656</td><td>27</td><td>-28503</td><td>101</td><td>13</td><td>--</td><td>--</td><td>--</td><td>--</td><td>--</td><td>12</td><td>CO, v=0</td></tr>\n",
       "</table></div>"
      ],
      "text/plain": [
       "<Table length=13>\n",
       "    FREQ      ERR    LGINT    DR    ELO    ...   Jl    Kl    vl    F     name \n",
       "    MHz       MHz   MHz nm2        1 / cm  ...                                \n",
       "  float64   float64 float64 int64 float64  ... int64 int64 int64 int64   str7 \n",
       "----------- ------- ------- ----- -------- ... ----- ----- ----- ----- -------\n",
       "115271.2018  0.0005 -5.0105     2      0.0 ...    --    --    --     0 CO, v=0\n",
       "   230538.0  0.0005 -4.1197     2    3.845 ...    --    --    --     1 CO, v=0\n",
       "345795.9899  0.0005 -3.6118     2   11.535 ...    --    --    --     2 CO, v=0\n",
       "461040.7682  0.0005 -3.2657     2  23.0695 ...    --    --    --     3 CO, v=0\n",
       "576267.9305  0.0005 -3.0118     2  38.4481 ...    --    --    --     4 CO, v=0\n",
       "691473.0763  0.0005 -2.8193     2  57.6704 ...    --    --    --     5 CO, v=0\n",
       " 806651.806   0.005 -2.6716     2  80.7354 ...    --    --    --     6 CO, v=0\n",
       "   921799.7   0.005  -2.559     2 107.6424 ...    --    --    --     7 CO, v=0\n",
       "1036912.393   0.005 -2.4751     2 138.3904 ...    --    --    --     8 CO, v=0\n",
       "1151985.452   0.011 -2.4156     2  172.978 ...    --    --    --     9 CO, v=0\n",
       "1267014.486   0.005 -2.3773     2 211.4041 ...    --    --    --    10 CO, v=0\n",
       "1381995.105   0.013 -2.3581     2 253.6672 ...    --    --    --    11 CO, v=0\n",
       "1496922.909   0.012 -2.3561     2 299.7656 ...    --    --    --    12 CO, v=0"
      ]
     },
     "execution_count": 14,
     "metadata": {},
     "output_type": "execute_result"
    }
   ],
   "source": [
    "from astroquery.cdms import CDMS\n",
    "CDMS.query_lines(min_frequency=FreqMin, max_frequency=FreqMax, molecule='CO, v=0', parse_name_locally=True)"
   ]
  },
  {
   "cell_type": "code",
   "execution_count": 15,
   "id": "loving-compensation",
   "metadata": {},
   "outputs": [
    {
     "name": "stdout",
     "output_type": "stream",
     "text": [
      "28.69893072666905\n"
     ]
    },
    {
     "data": {
      "text/html": [
       "<div><i>Table length=2000</i>\n",
       "<table id=\"table47830844616128\" class=\"table-striped table-bordered table-condensed\">\n",
       "<thead><tr><th>FREQ</th><th>col1</th><th>col2</th><th>col3</th></tr></thead>\n",
       "<thead><tr><th>MHz</th><th></th><th></th><th></th></tr></thead>\n",
       "<thead><tr><th>float64</th><th>int64</th><th>float64</th><th>float64</th></tr></thead>\n",
       "<tr><td>115271.2018</td><td>3</td><td>7.637950694016062e-16</td><td>-7.142475422501127</td></tr>\n",
       "<tr><td>230538.0</td><td>5</td><td>2.2913493923144632e-15</td><td>-6.160507653427331</td></tr>\n",
       "<tr><td>345795.9899</td><td>7</td><td>4.582633782887381e-15</td><td>-5.602667116785502</td></tr>\n",
       "<tr><td>461040.7682</td><td>9</td><td>7.637519742252811e-15</td><td>-5.212805934005709</td></tr>\n",
       "<tr><td>576267.9305</td><td>11</td><td>1.1455898628713094e-14</td><td>-4.9131905582354385</td></tr>\n",
       "<tr><td>691473.0763</td><td>13</td><td>1.603766182641226e-14</td><td>-4.6701167923756195</td></tr>\n",
       "<tr><td>806651.806</td><td>15</td><td>2.1382581538706352e-14</td><td>-4.465689296923527</td></tr>\n",
       "<tr><td>921799.7</td><td>17</td><td>2.7490489429805735e-14</td><td>-4.289542580825669</td></tr>\n",
       "<tr><td>1036912.393</td><td>19</td><td>3.436115793034068e-14</td><td>-4.134900688739896</td></tr>\n",
       "<tr><td>...</td><td>...</td><td>...</td><td>...</td></tr>\n",
       "<tr><td>1229730.379</td><td>33</td><td>2.3789029794068654e-13</td><td>-1.4984283508238576</td></tr>\n",
       "<tr><td>1229730.379</td><td>35</td><td>2.3789029794068654e-13</td><td>-3.9577824552962455</td></tr>\n",
       "<tr><td>1229730.379</td><td>35</td><td>2.3789029794068654e-13</td><td>-1.4983824552962457</td></tr>\n",
       "<tr><td>1229730.379</td><td>37</td><td>2.3789029794068654e-13</td><td>-1.496816135012965</td></tr>\n",
       "<tr><td>1287443.0569</td><td>35</td><td>5.944830116042022e-13</td><td>-1.4361770495989326</td></tr>\n",
       "<tr><td>1287443.0569</td><td>37</td><td>5.944830116042022e-13</td><td>-1.4361107293156514</td></tr>\n",
       "<tr><td>1287443.0569</td><td>39</td><td>5.944830116042022e-13</td><td>-1.4346736122751556</td></tr>\n",
       "<tr><td>1287984.701</td><td>35</td><td>4.593460866700906e-13</td><td>-1.435632440099803</td></tr>\n",
       "<tr><td>1287984.701</td><td>35</td><td>4.593460866700906e-13</td><td>-3.920632440099803</td></tr>\n",
       "<tr><td>1287984.701</td><td>37</td><td>4.593460866700906e-13</td><td>-1.4355661198165228</td></tr>\n",
       "</table></div>"
      ],
      "text/plain": [
       "<Table length=2000>\n",
       "    FREQ      col1          col2                  col3       \n",
       "    MHz                                                      \n",
       "  float64    int64        float64               float64      \n",
       "------------ ----- ---------------------- -------------------\n",
       " 115271.2018     3  7.637950694016062e-16  -7.142475422501127\n",
       "    230538.0     5 2.2913493923144632e-15  -6.160507653427331\n",
       " 345795.9899     7  4.582633782887381e-15  -5.602667116785502\n",
       " 461040.7682     9  7.637519742252811e-15  -5.212805934005709\n",
       " 576267.9305    11 1.1455898628713094e-14 -4.9131905582354385\n",
       " 691473.0763    13  1.603766182641226e-14 -4.6701167923756195\n",
       "  806651.806    15 2.1382581538706352e-14  -4.465689296923527\n",
       "    921799.7    17 2.7490489429805735e-14  -4.289542580825669\n",
       " 1036912.393    19  3.436115793034068e-14  -4.134900688739896\n",
       "         ...   ...                    ...                 ...\n",
       " 1229730.379    33 2.3789029794068654e-13 -1.4984283508238576\n",
       " 1229730.379    35 2.3789029794068654e-13 -3.9577824552962455\n",
       " 1229730.379    35 2.3789029794068654e-13 -1.4983824552962457\n",
       " 1229730.379    37 2.3789029794068654e-13  -1.496816135012965\n",
       "1287443.0569    35  5.944830116042022e-13 -1.4361770495989326\n",
       "1287443.0569    37  5.944830116042022e-13 -1.4361107293156514\n",
       "1287443.0569    39  5.944830116042022e-13 -1.4346736122751556\n",
       " 1287984.701    35  4.593460866700906e-13  -1.435632440099803\n",
       " 1287984.701    35  4.593460866700906e-13  -3.920632440099803\n",
       " 1287984.701    37  4.593460866700906e-13 -1.4355661198165228"
      ]
     },
     "execution_count": 15,
     "metadata": {},
     "output_type": "execute_result"
    }
   ],
   "source": [
    "Jfreqs, Jaij, Jdeg, JEU, Jpartfunc = get_molecular_parameters('CO',\n",
    "                                                              catalog='JPL',\n",
    "                                                              fmin=FreqMin,\n",
    "                                                              fmax=FreqMax)\n",
    "def modfunc_JPL(xarr, vcen, width, tex, column):\n",
    "    return generate_model(xarr, vcen=vcen, width=width, tex=tex, column=column, freqs=Jfreqs, aij=Jaij,\n",
    "                          deg=Jdeg, EU=JEU, partfunc=Jpartfunc)\n",
    "\n",
    "print(Jpartfunc(tkin))\n",
    "Table([Jfreqs, Jdeg, JEU, Jaij])"
   ]
  },
  {
   "cell_type": "code",
   "execution_count": 16,
   "id": "aquatic-mining",
   "metadata": {},
   "outputs": [
    {
     "name": "stdout",
     "output_type": "stream",
     "text": [
      "28.69893072666905\n"
     ]
    },
    {
     "data": {
      "text/html": [
       "<div><i>Table length=13</i>\n",
       "<table id=\"table47830796434304\" class=\"table-striped table-bordered table-condensed\">\n",
       "<thead><tr><th>FREQ</th><th>col1</th><th>col2</th><th>col3</th></tr></thead>\n",
       "<thead><tr><th>MHz</th><th></th><th></th><th></th></tr></thead>\n",
       "<thead><tr><th>float64</th><th>int64</th><th>float64</th><th>float64</th></tr></thead>\n",
       "<tr><td>115271.2018</td><td>3</td><td>7.637950694016062e-16</td><td>-7.142475422501127</td></tr>\n",
       "<tr><td>230538.0</td><td>5</td><td>2.2913493923144632e-15</td><td>-6.160507653427331</td></tr>\n",
       "<tr><td>345795.9899</td><td>7</td><td>4.582633782887381e-15</td><td>-5.602667116785502</td></tr>\n",
       "<tr><td>461040.7682</td><td>9</td><td>7.637519742252811e-15</td><td>-5.212805934005709</td></tr>\n",
       "<tr><td>576267.9305</td><td>11</td><td>1.1455898628713094e-14</td><td>-4.9131905582354385</td></tr>\n",
       "<tr><td>691473.0763</td><td>13</td><td>1.603766182641226e-14</td><td>-4.6701167923756195</td></tr>\n",
       "<tr><td>806651.806</td><td>15</td><td>2.1382581538706352e-14</td><td>-4.465689296923527</td></tr>\n",
       "<tr><td>921799.7</td><td>17</td><td>2.7490489429805735e-14</td><td>-4.289542580825669</td></tr>\n",
       "<tr><td>1036912.393</td><td>19</td><td>3.436115793034068e-14</td><td>-4.134900688739896</td></tr>\n",
       "<tr><td>1151985.452</td><td>21</td><td>4.199427956452219e-14</td><td>-3.997236292164979</td></tr>\n",
       "<tr><td>1267014.486</td><td>23</td><td>5.038960672823198e-14</td><td>-3.8732034169672764</td></tr>\n",
       "<tr><td>1381995.105</td><td>25</td><td>5.954681236614348e-14</td><td>-3.760605417375818</td></tr>\n",
       "<tr><td>1496922.909</td><td>27</td><td>6.946552962775236e-14</td><td>-3.6574762456045935</td></tr>\n",
       "</table></div>"
      ],
      "text/plain": [
       "<Table length=13>\n",
       "    FREQ     col1          col2                  col3       \n",
       "    MHz                                                     \n",
       "  float64   int64        float64               float64      \n",
       "----------- ----- ---------------------- -------------------\n",
       "115271.2018     3  7.637950694016062e-16  -7.142475422501127\n",
       "   230538.0     5 2.2913493923144632e-15  -6.160507653427331\n",
       "345795.9899     7  4.582633782887381e-15  -5.602667116785502\n",
       "461040.7682     9  7.637519742252811e-15  -5.212805934005709\n",
       "576267.9305    11 1.1455898628713094e-14 -4.9131905582354385\n",
       "691473.0763    13  1.603766182641226e-14 -4.6701167923756195\n",
       " 806651.806    15 2.1382581538706352e-14  -4.465689296923527\n",
       "   921799.7    17 2.7490489429805735e-14  -4.289542580825669\n",
       "1036912.393    19  3.436115793034068e-14  -4.134900688739896\n",
       "1151985.452    21  4.199427956452219e-14  -3.997236292164979\n",
       "1267014.486    23  5.038960672823198e-14 -3.8732034169672764\n",
       "1381995.105    25  5.954681236614348e-14  -3.760605417375818\n",
       "1496922.909    27  6.946552962775236e-14 -3.6574762456045935"
      ]
     },
     "execution_count": 16,
     "metadata": {},
     "output_type": "execute_result"
    }
   ],
   "source": [
    "freqs, aij, deg, EU, partfunc = get_molecular_parameters('CO, v=0',\n",
    "                                                         catalog='CDMS',\n",
    "                                                         fmin=FreqMin,\n",
    "                                                         fmax=FreqMax)\n",
    "def modfunc_CDMS(xarr, vcen, width, tex, column):\n",
    "    return generate_model(xarr, vcen=vcen, width=width, tex=tex, column=column, freqs=freqs, aij=aij,\n",
    "                          deg=deg, EU=EU, partfunc=partfunc)\n",
    "\n",
    "print(partfunc(tkin))\n",
    "Table([freqs, deg, EU, aij])"
   ]
  },
  {
   "cell_type": "code",
   "execution_count": 17,
   "id": "armed-ready",
   "metadata": {},
   "outputs": [],
   "source": [
    "# sanity check: all CDMS & JPL EU's are the same\n",
    "assert np.all(JEU[:9] - EU[:9] == 0)"
   ]
  },
  {
   "cell_type": "code",
   "execution_count": 18,
   "id": "selected-excess",
   "metadata": {},
   "outputs": [
    {
     "data": {
      "text/plain": [
       "array([0., 0., 0., 0., 0., 0., 0., 0., 0.])"
      ]
     },
     "execution_count": 18,
     "metadata": {},
     "output_type": "execute_result"
    }
   ],
   "source": [
    "Jaij[:9] - aij[:9]"
   ]
  },
  {
   "cell_type": "code",
   "execution_count": 19,
   "id": "urban-vacation",
   "metadata": {},
   "outputs": [],
   "source": [
    "from astropy import log\n",
    "#log.setLevel('DEBUG')\n",
    "JM = modfunc_JPL(xclass_spectra.xarr, vcen, width=vwidth, tex=tkin, column=Ntot)\n",
    "CM = modfunc_CDMS(xclass_spectra.xarr, vcen, width=vwidth, tex=tkin, column=Ntot)\n",
    "#log.setLevel('INFO')"
   ]
  },
  {
   "cell_type": "code",
   "execution_count": 20,
   "id": "controlled-irish",
   "metadata": {},
   "outputs": [
    {
     "name": "stderr",
     "output_type": "stream",
     "text": [
      "WARNING: No header given.  Creating an empty one.\n",
      "WARNING: No header given.  Creating an empty one.\n"
     ]
    }
   ],
   "source": [
    "model_JPL = pyspeckit.Spectrum(xarr=xclass_spectra.xarr, data=JM*u.K)\n",
    "model_CDMS = pyspeckit.Spectrum(xarr=xclass_spectra.xarr, data=CM*u.K)"
   ]
  },
  {
   "cell_type": "code",
   "execution_count": 21,
   "id": "found-buddy",
   "metadata": {},
   "outputs": [
    {
     "data": {
      "text/plain": [
       "False"
      ]
     },
     "execution_count": 21,
     "metadata": {},
     "output_type": "execute_result"
    }
   ],
   "source": [
    "Ntot < 30"
   ]
  },
  {
   "cell_type": "code",
   "execution_count": 22,
   "id": "cardiovascular-thriller",
   "metadata": {},
   "outputs": [
    {
     "data": {
      "text/plain": [
       "(0.0, 80.0)"
      ]
     },
     "execution_count": 22,
     "metadata": {},
     "output_type": "execute_result"
    },
    {
     "data": {
      "image/png": "[encoded data removed]",
      "text/plain": [
       "<Figure size 864x576 with 1 Axes>"
      ]
     },
     "metadata": {
      "needs_background": "light"
     },
     "output_type": "display_data"
    }
   ],
   "source": [
    "fig = pl.figure(figsize=(12,8))\n",
    "xclass_spectra.plotter(figure=fig, linewidth=3)\n",
    "ax = xclass_spectra.plotter.axis\n",
    "model_JPL.plotter(clear=False, color='r', axis=ax, alpha=0.75, linewidth=1.75)\n",
    "model_CDMS.plotter(clear=False, color='b', axis=ax, alpha=0.75, linewidth=1.5)\n",
    "ax.set_ylim([0,80])"
   ]
  },
  {
   "cell_type": "code",
   "execution_count": 23,
   "id": "golden-aberdeen",
   "metadata": {},
   "outputs": [
    {
     "data": {
      "image/png": "[encoded data removed]",
      "text/plain": [
       "<Figure size 720x720 with 9 Axes>"
      ]
     },
     "metadata": {
      "needs_background": "light"
     },
     "output_type": "display_data"
    }
   ],
   "source": [
    "fig = pl.figure(figsize=(10,10))\n",
    "for ii,(fmin, fmax) in enumerate(frequencies):\n",
    "    if ii+1 > 9:\n",
    "        break\n",
    "    ax = pl.subplot(3,3,ii+1)\n",
    "    xclass_spectra.plotter(axis=ax, clear=False, linewidth=1)\n",
    "    model_JPL.plotter(color='r', axis=ax, clear=False, xmin=fmin, xmax=fmax, linewidth=0.75)\n",
    "    model_CDMS.plotter(color='b', axis=ax, clear=False, xmin=fmin, xmax=fmax)\n"
   ]
  },
  {
   "cell_type": "code",
   "execution_count": 24,
   "id": "minor-relationship",
   "metadata": {},
   "outputs": [],
   "source": [
    "diff = (model_JPL - xclass_spectra)\n",
    "diff.data = diff.data / model_JPL.data"
   ]
  },
  {
   "cell_type": "code",
   "execution_count": 26,
   "id": "extraordinary-bandwidth",
   "metadata": {},
   "outputs": [
    {
     "data": {
      "image/png": "[encoded data removed]",
      "text/plain": [
       "<Figure size 720x720 with 9 Axes>"
      ]
     },
     "metadata": {
      "needs_background": "light"
     },
     "output_type": "display_data"
    }
   ],
   "source": [
    "fig = pl.figure(figsize=(10,10))\n",
    "for ii,(fmin, fmax) in enumerate(frequencies):\n",
    "    if ii+1 > 9:\n",
    "        break\n",
    "    ax = pl.subplot(3,3,ii+1)\n",
    "    diff.plotter(axis=ax, xmin=fmin, xmax=fmax)\n",
    "    ax.set_ylim(-0.1, 0.1)"
   ]
  },
  {
   "cell_type": "code",
   "execution_count": null,
   "id": "physical-server",
   "metadata": {},
   "outputs": [],
   "source": []
  }
 ],
 "metadata": {
  "kernelspec": {
   "display_name": "Py 3.9",
   "language": "python",
   "name": "python39"
  },
  "language_info": {
   "codemirror_mode": {
    "name": "ipython",
    "version": 3
   },
   "file_extension": ".py",
   "mimetype": "text/x-python",
   "name": "python",
   "nbconvert_exporter": "python",
   "pygments_lexer": "ipython3",
   "version": "3.9.2"
  }
 },
 "nbformat": 4,
 "nbformat_minor": 5
}
