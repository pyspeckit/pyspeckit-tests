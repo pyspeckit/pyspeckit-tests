{
 "cells": [
  {
   "cell_type": "code",
   "execution_count": 1,
   "id": "convinced-firewall",
   "metadata": {},
   "outputs": [],
   "source": [
    "source_size =  4.3350376922e+00\n",
    "tkin = 7.9842254347e+01 # good test is 79\n",
    "Ntot = 1.1061155735e+17  # good test is 1.1e17\n",
    "vwidthfwhm = 4.2101396644e+00\n",
    "vwidth = vwidthfwhm / np.sqrt(8*np.log(2))\n",
    "vcen = -1.1000000000e+00\n",
    "tbg = 2.73"
   ]
  },
  {
   "cell_type": "code",
   "execution_count": 2,
   "id": "assisted-graham",
   "metadata": {},
   "outputs": [],
   "source": [
    "import sys\n",
    "import os\n",
    "## get path of current directory\n",
    "LocalPath = os.getcwd() + \"/\"\n",
    "\n",
    "with open(\"CO_pure.molfit\", \"w\") as fh:\n",
    "    fh.write(f\"\"\"\n",
    "%============================================================================================================================\n",
    "%\n",
    "% define molecules and their components:\n",
    "%\n",
    "%============================================================================================================================\n",
    "%    source size:                 T_kin:               N_tot:            V_width:                V_off:   CFFlag:    keyword:\n",
    "%       [arcsec]:                   [K]:              [cm-2]:            [km /s]:              [km /s]:       []:         []:\n",
    "CO;v=0;           1\n",
    " {source_size}       {tkin}     {Ntot}     {vwidthfwhm}    {vcen}         c\n",
    "\"\"\")\n",
    "# get path of XCLASS directory\n",
    "XCLASSRootDir = str(os.environ.get('XCLASSRootDir', '')).strip()\n",
    "XCLASSRootDir = os.path.normpath(XCLASSRootDir) + \"/\"\n",
    "\n",
    "# extend sys.path variable\n",
    "NewPath = XCLASSRootDir + \"build_tasks/\"\n",
    "if (not NewPath in sys.path):\n",
    "    sys.path.append(NewPath)\n",
    "\n",
    "import task_myXCLASS\n",
    "\n",
    "# define path and name of molfit file\n",
    "#DEFAULT MolfitsFileName = LocalPath + \"files/my_molecules.molfit\"\n",
    "MolfitsFileName = LocalPath + 'CO_pure.molfit'\n",
    "\n",
    "\n",
    "\n",
    "# define freq. step (in MHz)\n",
    "FreqStep = 0.1\n",
    "\n",
    "# depending on parameter \"Inter_Flag\" define beam size (in arcsec)\n",
    "# (Inter_Flag = True) or size of telescope (in m) (Inter_Flag = False)\n",
    "TelescopeSize = 1.0 # arcseconds\n",
    "\n",
    "# define beam minor axis length (in arsec)\n",
    "BMIN = None\n",
    "\n",
    "# define beam major axis length (in arsec)\n",
    "BMAJ = None\n",
    "\n",
    "# define beam position angle (in degree)\n",
    "BPA = None\n",
    "\n",
    "# interferrometric data?\n",
    "Inter_Flag = True\n",
    "\n",
    "# define red shift\n",
    "Redshift = None\n",
    "\n",
    "# BACKGROUND: describe continuum with tBack and tslope only\n",
    "t_back_flag = True\n",
    "\n",
    "# BACKGROUND: define background temperature (in K)\n",
    "tBack = tbg\n",
    "\n",
    "# BACKGROUND: define temperature slope (dimensionless)\n",
    "tslope = 0.0\n",
    "\n",
    "# BACKGROUND: define path and name of ASCII file describing continuum as function\n",
    "#             of frequency\n",
    "BackgroundFileName = \"\"\n",
    "\n",
    "# DUST: define hydrogen column density (in cm^(-2))\n",
    "N_H = 1.e22\n",
    "\n",
    "# DUST: define spectral index for dust (dimensionless)\n",
    "beta_dust = 0.0\n",
    "\n",
    "# DUST: define kappa at 1.3 mm (cm^(2) g^(-1))\n",
    "kappa_1300 = 0.0\n",
    "\n",
    "# DUST: define path and name of ASCII file describing dust opacity as\n",
    "#       function of frequency\n",
    "DustFileName = \"\"\n",
    "\n",
    "# FREE-FREE: define electronic temperature (in K)\n",
    "Te_ff = None\n",
    "\n",
    "# FREE-FREE: define emission measure (in pc cm^(-6))\n",
    "EM_ff = None\n",
    "\n",
    "# SYNCHROTRON: define kappa of energy spectrum of electrons (electrons m^(−3) GeV^(-1))\n",
    "kappa_sync = None\n",
    "\n",
    "# SYNCHROTRON: define magnetic field (in Gauss)\n",
    "B_sync = None\n",
    "\n",
    "# SYNCHROTRON: energy spectral index (dimensionless)\n",
    "p_sync = None\n",
    "\n",
    "# SYNCHROTRON: thickness of slab (in AU)\n",
    "l_sync = None\n",
    "\n",
    "# PHEN-CONT: define phenomenological function which is used to describe\n",
    "#            the continuum\n",
    "ContPhenFuncID = None\n",
    "\n",
    "# PHEN-CONT: define first parameter for phenomenological function\n",
    "ContPhenFuncParam1 = None\n",
    "\n",
    "# PHEN-CONT: define second parameter for phenomenological function\n",
    "ContPhenFuncParam2 = None\n",
    "\n",
    "# PHEN-CONT: define third parameter for phenomenological function\n",
    "ContPhenFuncParam3 = None\n",
    "\n",
    "# PHEN-CONT: define fourth parameter for phenomenological function\n",
    "ContPhenFuncParam4 = None\n",
    "\n",
    "# PHEN-CONT: define fifth parameter for phenomenological function\n",
    "ContPhenFuncParam5 = None\n",
    "\n",
    "# use iso ratio file?\n",
    "iso_flag = True\n",
    "\n",
    "# define path and name of iso ratio file\n",
    "#DEFAULT IsoTableFileName = LocalPath + \"files/my_isonames.txt\"\n",
    "IsoTableFileName = LocalPath + \"my_isonames.txt\"\n",
    "\n",
    "# define path and name of file describing Non-LTE parameters\n",
    "CollisionFileName = \"\"\n",
    "\n",
    "# define number of pixels in x-direction (used for sub-beam description)\n",
    "NumModelPixelXX = 100\n",
    "\n",
    "# define number of pixels in y-direction (used for sub-beam description)\n",
    "NumModelPixelYY = 100\n",
    "\n",
    "# take local-overlap into account or not\n",
    "LocalOverlapFlag = False\n",
    "\n",
    "# disable sub-beam description\n",
    "NoSubBeamFlag = True\n",
    "\n",
    "# define path and name of database file\n",
    "dbFilename = \"\"\n",
    "\n",
    "# define rest freq. (in MHz)\n",
    "RestFreq = 0.0\n",
    "\n",
    "# define v_lsr (in km/s)\n",
    "vLSR = 0.0"
   ]
  },
  {
   "cell_type": "code",
   "execution_count": 3,
   "id": "forty-wellington",
   "metadata": {},
   "outputs": [
    {
     "name": "stdout",
     "output_type": "stream",
     "text": [
      "\n",
      "Start function myXCLASS:\n",
      "\n",
      "\n",
      "Creating job directory for function myXCLASS: /orange/adamginsburg/software/XCLASS-Interface/run/myXCLASS/job__04-09-2021__13-39-03__292147699/ .. done!\n",
      "\n",
      "All files of the current myXCLASS run are stored here!\n",
      "\n",
      "\n",
      "Set environment variable MAGIXTempDirectory =  /orange/adamginsburg/software/XCLASS-Interface/programs/MAGIX/temp/\n",
      "Analyze molfit file .. done!\n",
      "\n",
      "\n",
      "Check, if names of molecules in molfit file are included in XCLASS database .. done!\n",
      "\n",
      "\n",
      "\n",
      "\n",
      "Import calculated myXCLASS spectrum .. done!\n",
      "\n",
      "Read in intensities for each molecule and for each component .. done!\n",
      "\n",
      "Read in optical depths for each molecule and for each component .. done!\n",
      "\n",
      "All files of the current myXCLASS run are stored in the job directory /orange/adamginsburg/software/XCLASS-Interface/run/myXCLASS/job__04-09-2021__13-39-03__292147699/!\n",
      "\n",
      "\n",
      "\n",
      "Start function myXCLASS:\n",
      "\n",
      "\n",
      "Creating job directory for function myXCLASS: /orange/adamginsburg/software/XCLASS-Interface/run/myXCLASS/job__04-09-2021__13-39-03__292148431/ .. done!\n",
      "\n",
      "All files of the current myXCLASS run are stored here!\n",
      "\n",
      "\n",
      "Analyze molfit file .. done!\n",
      "\n",
      "\n",
      "Check, if names of molecules in molfit file are included in XCLASS database .. done!\n",
      "\n",
      "\n",
      "\n",
      "\n",
      "Import calculated myXCLASS spectrum .. done!\n",
      "\n",
      "Read in intensities for each molecule and for each component .. done!\n",
      "\n",
      "Read in optical depths for each molecule and for each component .. done!\n",
      "\n",
      "All files of the current myXCLASS run are stored in the job directory /orange/adamginsburg/software/XCLASS-Interface/run/myXCLASS/job__04-09-2021__13-39-03__292148431/!\n",
      "\n",
      "\n",
      "\n",
      "Start function myXCLASS:\n",
      "\n",
      "\n",
      "Creating job directory for function myXCLASS: /orange/adamginsburg/software/XCLASS-Interface/run/myXCLASS/job__04-09-2021__13-39-04__292148987/ .. done!\n",
      "\n",
      "All files of the current myXCLASS run are stored here!\n",
      "\n",
      "\n",
      "Analyze molfit file .. done!\n",
      "\n",
      "\n",
      "Check, if names of molecules in molfit file are included in XCLASS database .. done!\n",
      "\n",
      "\n",
      "\n",
      "\n",
      "Import calculated myXCLASS spectrum .. done!\n",
      "\n",
      "Read in intensities for each molecule and for each component .. done!\n",
      "\n",
      "Read in optical depths for each molecule and for each component .. done!\n",
      "\n",
      "All files of the current myXCLASS run are stored in the job directory /orange/adamginsburg/software/XCLASS-Interface/run/myXCLASS/job__04-09-2021__13-39-04__292148987/!\n",
      "\n",
      "\n",
      "\n",
      "Start function myXCLASS:\n",
      "\n",
      "\n",
      "Creating job directory for function myXCLASS: /orange/adamginsburg/software/XCLASS-Interface/run/myXCLASS/job__04-09-2021__13-39-04__292141927/ .. done!\n",
      "\n",
      "All files of the current myXCLASS run are stored here!\n",
      "\n",
      "\n",
      "Analyze molfit file .. done!\n",
      "\n",
      "\n",
      "Check, if names of molecules in molfit file are included in XCLASS database .. done!\n",
      "\n",
      "\n",
      "\n",
      "\n",
      "Import calculated myXCLASS spectrum .. done!\n",
      "\n",
      "Read in intensities for each molecule and for each component .. done!\n",
      "\n",
      "Read in optical depths for each molecule and for each component .. done!\n",
      "\n",
      "All files of the current myXCLASS run are stored in the job directory /orange/adamginsburg/software/XCLASS-Interface/run/myXCLASS/job__04-09-2021__13-39-04__292141927/!\n",
      "\n",
      "\n",
      "\n",
      "Start function myXCLASS:\n",
      "\n",
      "\n",
      "Creating job directory for function myXCLASS: /orange/adamginsburg/software/XCLASS-Interface/run/myXCLASS/job__04-09-2021__13-39-04__292143429/ .. done!\n",
      "\n",
      "All files of the current myXCLASS run are stored here!\n",
      "\n",
      "\n",
      "Analyze molfit file .. done!\n",
      "\n",
      "\n",
      "Check, if names of molecules in molfit file are included in XCLASS database .. done!\n",
      "\n",
      "\n",
      "\n",
      "\n",
      "Import calculated myXCLASS spectrum .. done!\n",
      "\n",
      "Read in intensities for each molecule and for each component .. done!\n",
      "\n",
      "Read in optical depths for each molecule and for each component .. done!\n",
      "\n",
      "All files of the current myXCLASS run are stored in the job directory /orange/adamginsburg/software/XCLASS-Interface/run/myXCLASS/job__04-09-2021__13-39-04__292143429/!\n",
      "\n",
      "\n",
      "\n",
      "Start function myXCLASS:\n",
      "\n",
      "\n",
      "Creating job directory for function myXCLASS: /orange/adamginsburg/software/XCLASS-Interface/run/myXCLASS/job__04-09-2021__13-39-05__292149845/ .. done!\n",
      "\n",
      "All files of the current myXCLASS run are stored here!\n",
      "\n",
      "\n",
      "Analyze molfit file .. done!\n",
      "\n",
      "\n",
      "Check, if names of molecules in molfit file are included in XCLASS database .. done!\n",
      "\n",
      "\n",
      "\n",
      "\n",
      "Import calculated myXCLASS spectrum .. done!\n",
      "\n",
      "Read in intensities for each molecule and for each component .. done!\n",
      "\n",
      "Read in optical depths for each molecule and for each component .. done!\n",
      "\n",
      "All files of the current myXCLASS run are stored in the job directory /orange/adamginsburg/software/XCLASS-Interface/run/myXCLASS/job__04-09-2021__13-39-05__292149845/!\n",
      "\n",
      "\n",
      "\n",
      "Start function myXCLASS:\n",
      "\n",
      "\n",
      "Creating job directory for function myXCLASS: /orange/adamginsburg/software/XCLASS-Interface/run/myXCLASS/job__04-09-2021__13-39-05__292141156/ .. done!\n",
      "\n",
      "All files of the current myXCLASS run are stored here!\n",
      "\n",
      "\n",
      "Analyze molfit file .. done!\n",
      "\n",
      "\n",
      "Check, if names of molecules in molfit file are included in XCLASS database .. done!\n",
      "\n",
      "\n",
      "\n",
      "\n",
      "Import calculated myXCLASS spectrum .. done!\n",
      "\n",
      "Read in intensities for each molecule and for each component .. done!\n",
      "\n",
      "Read in optical depths for each molecule and for each component .. done!\n",
      "\n",
      "All files of the current myXCLASS run are stored in the job directory /orange/adamginsburg/software/XCLASS-Interface/run/myXCLASS/job__04-09-2021__13-39-05__292141156/!\n",
      "\n",
      "\n",
      "\n",
      "Start function myXCLASS:\n",
      "\n",
      "\n",
      "Creating job directory for function myXCLASS: /orange/adamginsburg/software/XCLASS-Interface/run/myXCLASS/job__04-09-2021__13-39-06__292146751/ .. done!\n",
      "\n",
      "All files of the current myXCLASS run are stored here!\n",
      "\n",
      "\n",
      "Analyze molfit file .. done!\n",
      "\n",
      "\n",
      "Check, if names of molecules in molfit file are included in XCLASS database .. done!\n",
      "\n",
      "\n",
      "\n",
      "\n",
      "Import calculated myXCLASS spectrum .. done!\n",
      "\n",
      "Read in intensities for each molecule and for each component .. done!\n",
      "\n",
      "Read in optical depths for each molecule and for each component .. done!\n",
      "\n",
      "All files of the current myXCLASS run are stored in the job directory /orange/adamginsburg/software/XCLASS-Interface/run/myXCLASS/job__04-09-2021__13-39-06__292146751/!\n",
      "\n",
      "\n",
      "\n",
      "Start function myXCLASS:\n",
      "\n",
      "\n",
      "Creating job directory for function myXCLASS: /orange/adamginsburg/software/XCLASS-Interface/run/myXCLASS/job__04-09-2021__13-39-06__292147705/ .. done!\n",
      "\n",
      "All files of the current myXCLASS run are stored here!\n",
      "\n",
      "\n",
      "Analyze molfit file .. done!\n",
      "\n",
      "\n",
      "Check, if names of molecules in molfit file are included in XCLASS database .. done!\n",
      "\n",
      "\n",
      "\n",
      "\n",
      "Import calculated myXCLASS spectrum .. done!\n",
      "\n",
      "Read in intensities for each molecule and for each component .. done!\n",
      "\n",
      "Read in optical depths for each molecule and for each component .. done!\n",
      "\n",
      "All files of the current myXCLASS run are stored in the job directory /orange/adamginsburg/software/XCLASS-Interface/run/myXCLASS/job__04-09-2021__13-39-06__292147705/!\n",
      "\n",
      "\n",
      "\n",
      "Start function myXCLASS:\n",
      "\n",
      "\n",
      "Creating job directory for function myXCLASS: /orange/adamginsburg/software/XCLASS-Interface/run/myXCLASS/job__04-09-2021__13-39-07__292143925/ .. done!\n",
      "\n",
      "All files of the current myXCLASS run are stored here!\n",
      "\n",
      "\n",
      "Analyze molfit file .. done!\n",
      "\n",
      "\n",
      "Check, if names of molecules in molfit file are included in XCLASS database .. done!\n",
      "\n",
      "\n",
      "\n",
      "\n",
      "Import calculated myXCLASS spectrum .. done!\n",
      "\n",
      "Read in intensities for each molecule and for each component .. done!\n",
      "\n",
      "Read in optical depths for each molecule and for each component .. done!\n",
      "\n",
      "All files of the current myXCLASS run are stored in the job directory /orange/adamginsburg/software/XCLASS-Interface/run/myXCLASS/job__04-09-2021__13-39-07__292143925/!\n",
      "\n",
      "\n",
      "\n",
      "Start function myXCLASS:\n",
      "\n",
      "\n",
      "Creating job directory for function myXCLASS: /orange/adamginsburg/software/XCLASS-Interface/run/myXCLASS/job__04-09-2021__13-39-08__292146062/ .. done!\n",
      "\n",
      "All files of the current myXCLASS run are stored here!\n",
      "\n",
      "\n",
      "Analyze molfit file .. done!\n",
      "\n",
      "\n",
      "Check, if names of molecules in molfit file are included in XCLASS database .. done!\n",
      "\n",
      "\n",
      "\n",
      "\n",
      "Import calculated myXCLASS spectrum .. done!\n",
      "\n",
      "Read in intensities for each molecule and for each component .. done!\n",
      "\n",
      "Read in optical depths for each molecule and for each component .. done!\n",
      "\n",
      "All files of the current myXCLASS run are stored in the job directory /orange/adamginsburg/software/XCLASS-Interface/run/myXCLASS/job__04-09-2021__13-39-08__292146062/!\n",
      "\n",
      "\n",
      "\n",
      "Start function myXCLASS:\n",
      "\n",
      "\n",
      "Creating job directory for function myXCLASS: /orange/adamginsburg/software/XCLASS-Interface/run/myXCLASS/job__04-09-2021__13-39-08__292147969/ .. done!\n",
      "\n",
      "All files of the current myXCLASS run are stored here!\n",
      "\n",
      "\n",
      "Analyze molfit file .. done!\n",
      "\n",
      "\n",
      "Check, if names of molecules in molfit file are included in XCLASS database .. done!\n",
      "\n",
      "\n",
      "\n",
      "\n",
      "Import calculated myXCLASS spectrum .. done!\n",
      "\n",
      "Read in intensities for each molecule and for each component .. done!\n",
      "\n",
      "Read in optical depths for each molecule and for each component .. done!\n",
      "\n",
      "All files of the current myXCLASS run are stored in the job directory /orange/adamginsburg/software/XCLASS-Interface/run/myXCLASS/job__04-09-2021__13-39-08__292147969/!\n",
      "\n",
      "\n",
      "\n",
      "Start function myXCLASS:\n",
      "\n",
      "\n",
      "Creating job directory for function myXCLASS: /orange/adamginsburg/software/XCLASS-Interface/run/myXCLASS/job__04-09-2021__13-39-09__292149399/ .. done!\n",
      "\n",
      "All files of the current myXCLASS run are stored here!\n",
      "\n",
      "\n",
      "Analyze molfit file .. done!\n",
      "\n",
      "\n",
      "Check, if names of molecules in molfit file are included in XCLASS database .. done!\n",
      "\n",
      "\n",
      "\n",
      "\n",
      "Import calculated myXCLASS spectrum .. done!\n",
      "\n",
      "Read in intensities for each molecule and for each component .. done!\n",
      "\n",
      "Read in optical depths for each molecule and for each component .. done!\n",
      "\n",
      "All files of the current myXCLASS run are stored in the job directory /orange/adamginsburg/software/XCLASS-Interface/run/myXCLASS/job__04-09-2021__13-39-09__292149399/!\n",
      "\n",
      "\n"
     ]
    }
   ],
   "source": [
    "frequencies = np.array([115271.2018,  230538.0000,  345795.9899, 461040.7682, 576267.9305, 691473.0763, 806651.8060, 921799.7000, 1036912.3930,\n",
    "                       1151985.4520, 1267014.4860, 1381995.1050, 1496922.9090])\n",
    "\n",
    "frequencies = frequencies[:,None] * np.array([1-20/3e5, 1+25/3e5])[None,:]\n",
    "results = []\n",
    "\n",
    "for FreqMin, FreqMax in frequencies:\n",
    "\n",
    "    ## call myXCLASS function\n",
    "    modeldata, log, TransEnergies, IntOpt, JobDir = task_myXCLASS.myXCLASS(\n",
    "                                                FreqMin, FreqMax, FreqStep,\n",
    "                                                TelescopeSize, BMIN, BMAJ,\n",
    "                                                BPA, Inter_Flag, Redshift,\n",
    "                                                t_back_flag, tBack, tslope,\n",
    "                                                BackgroundFileName,\n",
    "                                                N_H, beta_dust, kappa_1300,\n",
    "                                                DustFileName, Te_ff, EM_ff,\n",
    "                                                kappa_sync, B_sync, p_sync,\n",
    "                                                l_sync, ContPhenFuncID,\n",
    "                                                ContPhenFuncParam1,\n",
    "                                                ContPhenFuncParam2,\n",
    "                                                ContPhenFuncParam3,\n",
    "                                                ContPhenFuncParam4,\n",
    "                                                ContPhenFuncParam5,\n",
    "                                                MolfitsFileName, iso_flag,\n",
    "                                                IsoTableFileName,\n",
    "                                                CollisionFileName,\n",
    "                                                NumModelPixelXX,\n",
    "                                                NumModelPixelYY,\n",
    "                                                LocalOverlapFlag,\n",
    "                                                NoSubBeamFlag,\n",
    "                                                dbFilename,\n",
    "                                                RestFreq, vLSR)\n",
    "    results.append( (modeldata, log, TransEnergies, IntOpt, JobDir) )"
   ]
  },
  {
   "cell_type": "code",
   "execution_count": 4,
   "id": "flying-steal",
   "metadata": {},
   "outputs": [],
   "source": [
    "import pyspeckit"
   ]
  },
  {
   "cell_type": "code",
   "execution_count": 5,
   "id": "another-noise",
   "metadata": {},
   "outputs": [],
   "source": [
    "from astropy import units as u"
   ]
  },
  {
   "cell_type": "code",
   "execution_count": 6,
   "id": "focused-credit",
   "metadata": {},
   "outputs": [],
   "source": [
    "%matplotlib inline\n",
    "import pylab as pl"
   ]
  },
  {
   "cell_type": "code",
   "execution_count": 7,
   "id": "lucky-being",
   "metadata": {},
   "outputs": [
    {
     "name": "stdout",
     "output_type": "stream",
     "text": [
      "INFO: Creating spectra [pyspeckit.spectrum.classes]\n",
      "INFO: Concatenating data [pyspeckit.spectrum.classes]\n"
     ]
    },
    {
     "name": "stderr",
     "output_type": "stream",
     "text": [
      "WARNING: No header given.  Creating an empty one.\n",
      "WARNING: No header given.  Creating an empty one.\n",
      "WARNING: No header given.  Creating an empty one.\n",
      "WARNING: No header given.  Creating an empty one.\n",
      "WARNING: No header given.  Creating an empty one.\n",
      "WARNING: No header given.  Creating an empty one.\n",
      "WARNING: No header given.  Creating an empty one.\n",
      "WARNING: No header given.  Creating an empty one.\n",
      "WARNING: No header given.  Creating an empty one.\n",
      "WARNING: No header given.  Creating an empty one.\n",
      "WARNING: No header given.  Creating an empty one.\n",
      "WARNING: No header given.  Creating an empty one.\n",
      "WARNING: No header given.  Creating an empty one.\n"
     ]
    }
   ],
   "source": [
    "xclass_spectra = pyspeckit.Spectra([pyspeckit.Spectrum(data=modeldata.T[1]*u.K, xarr=modeldata.T[0]*u.MHz)\n",
    "                                    for (modeldata, log, TransEnergies, IntOpt, JobDir) in results])"
   ]
  },
  {
   "cell_type": "code",
   "execution_count": 8,
   "id": "royal-mumbai",
   "metadata": {},
   "outputs": [
    {
     "data": {
      "image/png": "[encoded data removed]",
      "text/plain": [
       "<Figure size 432x288 with 1 Axes>"
      ]
     },
     "metadata": {
      "needs_background": "light"
     },
     "output_type": "display_data"
    }
   ],
   "source": [
    "xclass_spectra.plotter()"
   ]
  },
  {
   "cell_type": "code",
   "execution_count": 9,
   "id": "fleet-scotland",
   "metadata": {},
   "outputs": [],
   "source": [
    "from molsim.classes import Workspace, Catalog, Transition, Level, Molecule, PartitionFunction, Spectrum, Simulation, Continuum, Source, Observatory, Observation, Iplot, Trace\n",
    "from molsim.file_handling import load_mol, load_obs, load_multi_obs"
   ]
  },
  {
   "cell_type": "code",
   "execution_count": 10,
   "id": "separated-collector",
   "metadata": {},
   "outputs": [
    {
     "name": "stderr",
     "output_type": "stream",
     "text": [
      "WARNING: No header given.  Creating an empty one.\n"
     ]
    }
   ],
   "source": [
    "co = load_mol('co.cat', \n",
    "              type='SPCAT',\n",
    "              qpart_file='co.qpart')\n",
    "co_src = Source(column = Ntot, #column density in cm-2\n",
    "                Tex = tkin, #excitation temperature in K\n",
    "                dV = vwidthfwhm, #FWHM linewidth in km/s\n",
    "                velocity = vcen, #vlsr in km/s\n",
    "                size = 1E20, #source size in arcseconds; default is 1E20 so no beam dilution is considered.\n",
    "                continuum = Continuum(params=tbg), \n",
    "                #a continuum object to define the background temperature. Default 2.7 K.\n",
    "                #This can be substantially more flexible if needed - see the Continuum class object.\n",
    "                )\n",
    "co_sim = Simulation(  observation = Observation(), #a default Observation object (see note below)\n",
    "                      source = co_src, #the source of emission\n",
    "                      ll = frequencies.min(), #lower limit\n",
    "                      ul = frequencies.max(), #upper limit\n",
    "                      res = FreqStep, #resolution in MHz\n",
    "                      mol = co, #molecule\n",
    ")\n",
    "molsim_sp = pyspeckit.Spectrum(xarr=co_sim.spectrum.freq_profile*u.MHz, data=co_sim.spectrum.int_profile*u.K)"
   ]
  },
  {
   "cell_type": "code",
   "execution_count": 11,
   "id": "periodic-insertion",
   "metadata": {},
   "outputs": [
    {
     "data": {
      "image/png": "[encoded data removed]",
      "text/plain": [
       "<Figure size 432x288 with 1 Axes>"
      ]
     },
     "metadata": {
      "needs_background": "light"
     },
     "output_type": "display_data"
    }
   ],
   "source": [
    "molsim_sp.plotter()"
   ]
  },
  {
   "cell_type": "code",
   "execution_count": 12,
   "id": "outdoor-lexington",
   "metadata": {},
   "outputs": [],
   "source": [
    "from pyspeckit.spectrum.models import lte_molecule\n",
    "from pyspeckit.spectrum.models.lte_molecule import get_molecular_parameters, generate_model, generate_fitter"
   ]
  },
  {
   "cell_type": "code",
   "execution_count": 13,
   "id": "arranged-relaxation",
   "metadata": {},
   "outputs": [],
   "source": [
    "FreqMin = xclass_spectra.xarr.min()\n",
    "FreqMax = xclass_spectra.xarr.max()"
   ]
  },
  {
   "cell_type": "code",
   "execution_count": 14,
   "id": "fifteen-longer",
   "metadata": {},
   "outputs": [],
   "source": [
    "from astropy.table import Table"
   ]
  },
  {
   "cell_type": "code",
   "execution_count": 15,
   "id": "silent-heather",
   "metadata": {},
   "outputs": [],
   "source": [
    "Jfreqs, Jaij, Jdeg, JEU, Jpartfunc = get_molecular_parameters('CO',\n",
    "                                                              catalog='JPL',\n",
    "                                                              fmin=FreqMin,\n",
    "                                                              fmax=FreqMax)\n",
    "def modfunc_JPL(xarr, vcen, width, tex, column):\n",
    "    return generate_model(xarr, vcen=vcen, width=width, tex=tex, column=column, freqs=Jfreqs, aij=Jaij,\n",
    "                          deg=Jdeg, EU=JEU, partfunc=Jpartfunc, tbg=tbg)\n",
    "\n",
    "#print(Jpartfunc(tkin))\n",
    "#Table([Jfreqs, Jdeg, JEU, Jaij])"
   ]
  },
  {
   "cell_type": "code",
   "execution_count": 16,
   "id": "developed-concentration",
   "metadata": {},
   "outputs": [],
   "source": [
    "freqs, aij, deg, EU, partfunc = get_molecular_parameters('CO, v=0',\n",
    "                                                         catalog='CDMS',\n",
    "                                                         fmin=FreqMin,\n",
    "                                                         fmax=FreqMax)\n",
    "def modfunc_CDMS(xarr, vcen, width, tex, column):\n",
    "    return generate_model(xarr, vcen=vcen, width=width, tex=tex, column=column, freqs=freqs, aij=aij,\n",
    "                          deg=deg, EU=EU, partfunc=partfunc, tbg=tbg)\n",
    "\n",
    "#print(partfunc(tkin))\n",
    "#Table([freqs, deg, EU, aij])"
   ]
  },
  {
   "cell_type": "code",
   "execution_count": 17,
   "id": "helpful-april",
   "metadata": {},
   "outputs": [],
   "source": [
    "# sanity check: all CDMS & JPL EU's are the same\n",
    "assert np.all(JEU[:9] - EU[:9] == 0)"
   ]
  },
  {
   "cell_type": "code",
   "execution_count": 18,
   "id": "extended-candle",
   "metadata": {},
   "outputs": [
    {
     "data": {
      "text/plain": [
       "array([0., 0., 0., 0., 0., 0., 0., 0., 0.])"
      ]
     },
     "execution_count": 18,
     "metadata": {},
     "output_type": "execute_result"
    }
   ],
   "source": [
    "Jaij[:9] - aij[:9]"
   ]
  },
  {
   "cell_type": "code",
   "execution_count": 19,
   "id": "elegant-somewhere",
   "metadata": {},
   "outputs": [],
   "source": [
    "from astropy import log\n",
    "#log.setLevel('DEBUG')\n",
    "JM = modfunc_JPL(xclass_spectra.xarr, vcen, width=vwidth, tex=tkin, column=Ntot)\n",
    "CM = modfunc_CDMS(xclass_spectra.xarr, vcen, width=vwidth, tex=tkin, column=Ntot)\n",
    "#log.setLevel('INFO')"
   ]
  },
  {
   "cell_type": "code",
   "execution_count": 20,
   "id": "parliamentary-article",
   "metadata": {},
   "outputs": [
    {
     "name": "stderr",
     "output_type": "stream",
     "text": [
      "WARNING: No header given.  Creating an empty one.\n",
      "WARNING: No header given.  Creating an empty one.\n"
     ]
    }
   ],
   "source": [
    "model_JPL = pyspeckit.Spectrum(xarr=xclass_spectra.xarr, data=JM*u.K)\n",
    "model_CDMS = pyspeckit.Spectrum(xarr=xclass_spectra.xarr, data=CM*u.K)"
   ]
  },
  {
   "cell_type": "code",
   "execution_count": 21,
   "id": "behind-victor",
   "metadata": {},
   "outputs": [
    {
     "data": {
      "text/plain": [
       "False"
      ]
     },
     "execution_count": 21,
     "metadata": {},
     "output_type": "execute_result"
    }
   ],
   "source": [
    "Ntot < 30"
   ]
  },
  {
   "cell_type": "code",
   "execution_count": 22,
   "id": "acquired-latex",
   "metadata": {},
   "outputs": [
    {
     "data": {
      "text/plain": [
       "(0.0, 301.0)"
      ]
     },
     "execution_count": 22,
     "metadata": {},
     "output_type": "execute_result"
    },
    {
     "data": {
      "image/png": "[encoded data removed]",
      "text/plain": [
       "<Figure size 864x576 with 1 Axes>"
      ]
     },
     "metadata": {
      "needs_background": "light"
     },
     "output_type": "display_data"
    }
   ],
   "source": [
    "fig = pl.figure(figsize=(12,8))\n",
    "xclass_spectra.plotter(figure=fig, linewidth=3)\n",
    "ax = xclass_spectra.plotter.axis\n",
    "model_JPL.plotter(clear=False, color='r', axis=ax, alpha=0.75, linewidth=1.75)\n",
    "model_CDMS.plotter(clear=False, color='b', axis=ax, alpha=0.75, linewidth=1.5)\n",
    "molsim_sp.plotter(clear=False, color='g', axis=ax, linewidth=1.25)\n",
    "ax.set_ylim([0,301])"
   ]
  },
  {
   "cell_type": "code",
   "execution_count": 23,
   "id": "naughty-forge",
   "metadata": {},
   "outputs": [
    {
     "data": {
      "image/png": "[encoded data removed]",
      "text/plain": [
       "<Figure size 720x720 with 9 Axes>"
      ]
     },
     "metadata": {
      "needs_background": "light"
     },
     "output_type": "display_data"
    }
   ],
   "source": [
    "fig = pl.figure(figsize=(10,10))\n",
    "for ii,(fmin, fmax) in enumerate(frequencies):\n",
    "    if ii+1 > 9:\n",
    "        break\n",
    "    ax = pl.subplot(3,3,ii+1)\n",
    "    xclass_spectra.plotter(axis=ax, clear=False, linewidth=1)\n",
    "    model_JPL.plotter(color='r', axis=ax, clear=False, xmin=fmin, xmax=fmax, linewidth=0.75)\n",
    "    model_CDMS.plotter(color='b', axis=ax, clear=False, xmin=fmin, xmax=fmax)\n",
    "    molsim_sp.plotter(clear=False, color='g', axis=ax, xmin=fmin, xmax=fmax, linewidth=1)\n",
    "    ax.axhline(tkin)\n"
   ]
  },
  {
   "cell_type": "code",
   "execution_count": 24,
   "id": "emotional-provision",
   "metadata": {},
   "outputs": [],
   "source": [
    "diff = (model_JPL - xclass_spectra)\n",
    "diff.data = diff.data / model_JPL.data"
   ]
  },
  {
   "cell_type": "code",
   "execution_count": 25,
   "id": "indian-dispatch",
   "metadata": {},
   "outputs": [
    {
     "data": {
      "image/png": "[encoded data removed]",
      "text/plain": [
       "<Figure size 720x720 with 9 Axes>"
      ]
     },
     "metadata": {
      "needs_background": "light"
     },
     "output_type": "display_data"
    }
   ],
   "source": [
    "fig = pl.figure(figsize=(10,10))\n",
    "for ii,(fmin, fmax) in enumerate(frequencies):\n",
    "    if ii+1 > 9:\n",
    "        break\n",
    "    ax = pl.subplot(3,3,ii+1)\n",
    "    diff.plotter(axis=ax, xmin=fmin, xmax=fmax)\n",
    "    ax.set_ylim(-0.1, 0.1)"
   ]
  },
  {
   "cell_type": "code",
   "execution_count": 26,
   "id": "casual-vehicle",
   "metadata": {},
   "outputs": [
    {
     "name": "stderr",
     "output_type": "stream",
     "text": [
      "Warning: 'partition' will ignore the 'mask' of the MaskedArray.\n"
     ]
    },
    {
     "data": {
      "text/plain": [
       "-291.1940439002981"
      ]
     },
     "execution_count": 26,
     "metadata": {},
     "output_type": "execute_result"
    }
   ],
   "source": [
    "np.median(diff.data[~diff.data.mask])"
   ]
  },
  {
   "cell_type": "code",
   "execution_count": 27,
   "id": "smart-robertson",
   "metadata": {},
   "outputs": [
    {
     "data": {
      "text/plain": [
       "(array([0., 0., 0., 0., 0., 0., 0., 0., 0., 0., 0., 0., 0., 0., 0., 0., 0.,\n",
       "        0., 0., 1., 1., 0., 0., 0., 0., 0., 1., 0., 0., 0., 1., 0., 0., 0.,\n",
       "        0., 0., 0., 0., 0., 0., 0., 0., 0., 0., 0., 0., 0., 0., 0.]),\n",
       " array([0.05      , 0.05040816, 0.05081633, 0.05122449, 0.05163265,\n",
       "        0.05204082, 0.05244898, 0.05285714, 0.05326531, 0.05367347,\n",
       "        0.05408163, 0.0544898 , 0.05489796, 0.05530612, 0.05571429,\n",
       "        0.05612245, 0.05653061, 0.05693878, 0.05734694, 0.0577551 ,\n",
       "        0.05816327, 0.05857143, 0.05897959, 0.05938776, 0.05979592,\n",
       "        0.06020408, 0.06061224, 0.06102041, 0.06142857, 0.06183673,\n",
       "        0.0622449 , 0.06265306, 0.06306122, 0.06346939, 0.06387755,\n",
       "        0.06428571, 0.06469388, 0.06510204, 0.0655102 , 0.06591837,\n",
       "        0.06632653, 0.06673469, 0.06714286, 0.06755102, 0.06795918,\n",
       "        0.06836735, 0.06877551, 0.06918367, 0.06959184, 0.07      ]),\n",
       " <BarContainer object of 49 artists>)"
      ]
     },
     "execution_count": 27,
     "metadata": {},
     "output_type": "execute_result"
    },
    {
     "data": {
      "image/png": "[encoded data removed]",
      "text/plain": [
       "<Figure size 432x288 with 1 Axes>"
      ]
     },
     "metadata": {
      "needs_background": "light"
     },
     "output_type": "display_data"
    }
   ],
   "source": [
    "pl.hist(diff.data, bins=np.linspace(0.05,0.07))"
   ]
  },
  {
   "cell_type": "code",
   "execution_count": 28,
   "id": "bright-thailand",
   "metadata": {},
   "outputs": [
    {
     "data": {
      "text/plain": [
       "masked"
      ]
     },
     "execution_count": 28,
     "metadata": {},
     "output_type": "execute_result"
    }
   ],
   "source": [
    "np.median(diff.data[diff.data<0.055])"
   ]
  },
  {
   "cell_type": "code",
   "execution_count": 29,
   "id": "solar-magic",
   "metadata": {},
   "outputs": [],
   "source": [
    "#pl.plot(model_CDMS.data,    molsim_sp.data, ',')"
   ]
  },
  {
   "cell_type": "code",
   "execution_count": null,
   "id": "marked-orleans",
   "metadata": {},
   "outputs": [],
   "source": []
  },
  {
   "cell_type": "code",
   "execution_count": null,
   "id": "smoking-prompt",
   "metadata": {},
   "outputs": [],
   "source": []
  }
 ],
 "metadata": {
  "kernelspec": {
   "display_name": "Py 3.9",
   "language": "python",
   "name": "python39"
  },
  "language_info": {
   "codemirror_mode": {
    "name": "ipython",
    "version": 3
   },
   "file_extension": ".py",
   "mimetype": "text/x-python",
   "name": "python",
   "nbconvert_exporter": "python",
   "pygments_lexer": "ipython3",
   "version": "3.9.2"
  }
 },
 "nbformat": 4,
 "nbformat_minor": 5
}
